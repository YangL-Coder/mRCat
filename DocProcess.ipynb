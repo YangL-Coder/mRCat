{
 "cells": [
  {
   "cell_type": "markdown",
   "id": "5445291c",
   "metadata": {},
   "source": [
    "#TrainingSet"
   ]
  },
  {
   "cell_type": "code",
   "execution_count": 5,
   "id": "d17d431b",
   "metadata": {},
   "outputs": [],
   "source": [
    "import pandas as pd\n",
    "\n",
    "# Read the CSV file using tab as the separator, no header, and specifying column names\n",
    "df = pd.read_csv('./data/TrainingSet/mRNA_sublocation_TrainingSet', sep='\\t', header=None, names=['ensembl_transcript_id', 'name', 'cdna', 'tag'])\n",
    "\n",
    "# Select only the specified columns from the DataFrame\n",
    "selected_columns = df[['ensembl_transcript_id', 'cdna', 'tag']]\n",
    "\n",
    "# Save the selected columns to a new CSV file, using tab as the separator, without header and index\n",
    "selected_columns.to_csv('./data/TrainingSet/mRNA_sublocation_TrainingSet', sep='\\t', header=False, index=False)\n"
   ]
  },
  {
   "cell_type": "code",
   "execution_count": 7,
   "id": "219823c7",
   "metadata": {},
   "outputs": [],
   "source": [
    "import pandas as pd\n",
    "\n",
    "# Read the CSV file using tab as the separator\n",
    "df = pd.read_csv('./data/TrainingSet/mRNA_sublocation_TrainingSet', sep='\\t')\n",
    "\n",
    "# Filter the DataFrame for rows where 'tag' is 0 and drop the 'tag' column\n",
    "tag_0_df = df[df['tag'] == 0].drop(columns=['tag'])\n",
    "\n",
    "# Filter the DataFrame for rows where 'tag' is 1 and drop the 'tag' column\n",
    "tag_1_df = df[df['tag'] == 1].drop(columns=['tag'])\n",
    "\n",
    "# Save the filtered DataFrame where 'tag' is 0 to a new CSV file\n",
    "tag_0_df.to_csv('./data/TrainingSet/mRNA_sublocation_TrainingSet_tag_0_document.csv', index=False)\n",
    "\n",
    "# Save the filtered DataFrame where 'tag' is 1 to a new CSV file\n",
    "tag_1_df.to_csv('./data/TrainingSet/mRNA_sublocation_TrainingSet_tag_1_document.csv', index=False)\n"
   ]
  },
  {
   "cell_type": "code",
   "execution_count": 8,
   "id": "57efab0f",
   "metadata": {},
   "outputs": [],
   "source": [
    "import pandas as pd\n",
    "\n",
    "# Define a function to save DataFrame to a FASTA file\n",
    "def save_to_fasta(df, filename):\n",
    "    with open(filename, 'w') as file:  # Open the file in write mode\n",
    "        for index, row in df.iterrows():  # Iterate over each row in the DataFrame\n",
    "            file.write(f\">{row['ensembl_transcript_id']}\\n{row['cdna']}\\n\")  # Write in FASTA format\n",
    "\n",
    "# Read the CSV file for 'tag' == 0\n",
    "tag_0_df = pd.read_csv('./data/TrainingSet/mRNA_sublocation_TrainingSet_tag_0_document.csv')\n",
    "\n",
    "# Read the CSV file for 'tag' == 1\n",
    "tag_1_df = pd.read_csv('./data/TrainingSet/mRNA_sublocation_TrainingSet_tag_1_document.csv')\n",
    "\n",
    "# Save the DataFrame for 'tag' == 0 to a FASTA file\n",
    "save_to_fasta(tag_0_df, './data/TrainingSet/mRNA_sublocation_TrainingSet_cytoplasm_data.fasta')\n",
    "\n",
    "# Save the DataFrame for 'tag' == 1 to a FASTA file\n",
    "save_to_fasta(tag_1_df, './data/TrainingSet/mRNA_sublocation_TrainingSet_nucleus_data.fasta')\n"
   ]
  },
  {
   "cell_type": "code",
   "execution_count": 9,
   "id": "300e433d",
   "metadata": {},
   "outputs": [],
   "source": [
    "def merge_fasta(input_files, output_file):\n",
    "    with open(output_file, 'w') as output_fasta:\n",
    "        for input_file in input_files:\n",
    "            with open(input_file, 'r') as input_fasta:\n",
    "                output_fasta.write(input_fasta.read())\n",
    "\n",
    "\n",
    "merge_fasta(['./data/TrainingSet/mRNA_sublocation_TrainingSet_nucleus_data.fasta', './data/TrainingSet/mRNA_sublocation_TrainingSet_cytoplasm_data.fasta'], './data/TrainingSet/mRNA_sublocation_TrainingSet_data.fasta')\n"
   ]
  },
  {
   "cell_type": "code",
   "execution_count": 12,
   "id": "0c286aa9",
   "metadata": {},
   "outputs": [],
   "source": [
    "def main():\n",
    "    # Define the output file path\n",
    "    output_file = './data/TrainingSet/mRNA_sublocation_TrainingSet.txt'\n",
    "    \n",
    "    # Define the total number of lines to write\n",
    "    num_lines = 4662\n",
    "\n",
    "    # Open the output file in write mode\n",
    "    with open(output_file, 'w') as file:\n",
    "        # Loop through the range of num_lines\n",
    "        for i in range(num_lines):\n",
    "            # Assign label 1 for the first 2028 lines, then 0 for the rest\n",
    "            label = 1 if i < 2028 else 0\n",
    "            # Write the label to the file followed by a newline character\n",
    "            file.write(f'{label}\\n')\n",
    "\n",
    "# Check if the script is being run directly\n",
    "if __name__ == \"__main__\":\n",
    "    main()\n"
   ]
  },
  {
   "cell_type": "markdown",
   "id": "00b41159",
   "metadata": {},
   "source": [
    "#TestSet处理"
   ]
  },
  {
   "cell_type": "code",
   "execution_count": 13,
   "id": "eabd0e9b",
   "metadata": {},
   "outputs": [],
   "source": [
    "import pandas as pd\n",
    "\n",
    "# Read the TSV file using tab as the separator, no header, and specifying column names\n",
    "df = pd.read_csv('./data/TestSet/mRNA_sublocation_TestSet.tsv', sep='\\t', header=None, names=['ensembl_transcript_id', 'name', 'cdna', 'tag'])\n",
    "\n",
    "# Select only the specified columns from the DataFrame\n",
    "selected_columns = df[['ensembl_transcript_id', 'cdna', 'tag']]\n",
    "\n",
    "# Save the selected columns to a new TSV file, using tab as the separator, without header and index\n",
    "selected_columns.to_csv('./data/TestSet/mRNA_sublocation_TestSet.tsv', sep='\\t', header=False, index=False)\n"
   ]
  },
  {
   "cell_type": "code",
   "execution_count": 14,
   "id": "920c2acc",
   "metadata": {},
   "outputs": [],
   "source": [
    "import pandas as pd\n",
    "\n",
    "# Read the TSV file using tab as the separator\n",
    "df = pd.read_csv('./data/TestSet/mRNA_sublocation_TestSet', sep='\\t')\n",
    "\n",
    "# Filter the DataFrame for rows where 'tag' is 0 and drop the 'tag' column\n",
    "tag_0_df = df[df['tag'] == 0].drop(columns=['tag'])\n",
    "\n",
    "# Filter the DataFrame for rows where 'tag' is 1 and drop the 'tag' column\n",
    "tag_1_df = df[df['tag'] == 1].drop(columns=['tag'])\n",
    "\n",
    "# Save the filtered DataFrame where 'tag' is 0 to a new CSV file\n",
    "tag_0_df.to_csv('./data/TestSet/mRNA_sublocation_TestSet_tag_0_document.csv', index=False)\n",
    "\n",
    "# Save the filtered DataFrame where 'tag' is 1 to a new CSV file\n",
    "tag_1_df.to_csv('./data/TestSet/mRNA_sublocation_TestSet_tag_1_document.csv', index=False)\n"
   ]
  },
  {
   "cell_type": "code",
   "execution_count": 15,
   "id": "a7107bd3",
   "metadata": {},
   "outputs": [],
   "source": [
    "import pandas as pd\n",
    "\n",
    "# Define a function to save DataFrame to a FASTA file\n",
    "def save_to_fasta(df, filename):\n",
    "    # Open the file in write mode\n",
    "    with open(filename, 'w') as file:\n",
    "        # Iterate over each row in the DataFrame\n",
    "        for index, row in df.iterrows():\n",
    "            # Write the ensembl_transcript_id and cdna to the file in FASTA format\n",
    "            file.write(f\">{row['ensembl_transcript_id']}\\n{row['cdna']}\\n\")\n",
    "\n",
    "# Read the CSV file for 'tag' == 0\n",
    "tag_0_df = pd.read_csv('./data/TestSet/mRNA_sublocation_TestSet_tag_0_document.csv')\n",
    "\n",
    "# Read the CSV file for 'tag' == 1\n",
    "tag_1_df = pd.read_csv('./data/TestSet/mRNA_sublocation_TestSet_tag_1_document.csv')\n",
    "\n",
    "# Save the DataFrame for 'tag' == 0 to a FASTA file\n",
    "save_to_fasta(tag_0_df, './data/TestSet/mRNA_sublocation_TestSet_cytoplasm_data.fasta')\n",
    "\n",
    "# Save the DataFrame for 'tag' == 1 to a FASTA file\n",
    "save_to_fasta(tag_1_df, './data/TestSet/mRNA_sublocation_TestSet_nucleus_data.fasta')\n"
   ]
  },
  {
   "cell_type": "code",
   "execution_count": 16,
   "id": "70096d04",
   "metadata": {},
   "outputs": [],
   "source": [
    "def merge_fasta(input_files, output_file):\n",
    "    with open(output_file, 'w') as output_fasta:\n",
    "        for input_file in input_files:\n",
    "            with open(input_file, 'r') as input_fasta:\n",
    "                output_fasta.write(input_fasta.read())\n",
    "\n",
    "\n",
    "merge_fasta(['./data/TestSet/mRNA_sublocation_TestSet_nucleus_data.fasta', './data/TestSet/mRNA_sublocation_TestSet_cytoplasm_data.fasta'], './data/TestSet/mRNA_sublocation_TestSet_data.fasta')\n"
   ]
  },
  {
   "cell_type": "code",
   "execution_count": 19,
   "id": "88ba7927",
   "metadata": {},
   "outputs": [],
   "source": [
    "def main():\n",
    "    # Define the output file path\n",
    "    output_file = './data/TestSet/mRNA_sublocation_TestSet.txt'\n",
    "    \n",
    "    # Define the total number of lines to write\n",
    "    num_lines = 518\n",
    "\n",
    "    # Open the output file in write mode\n",
    "    with open(output_file, 'w') as file:\n",
    "        # Loop through the range of num_lines\n",
    "        for i in range(num_lines):\n",
    "            # Assign label 1 for the first 228 lines, then 0 for the rest\n",
    "            label = 1 if i < 228 else 0\n",
    "            # Write the label to the file followed by a newline character\n",
    "            file.write(f'{label}\\n')\n",
    "\n",
    "# Check if the script is being run directly\n",
    "if __name__ == \"__main__\":\n",
    "    main()\n"
   ]
  },
  {
   "cell_type": "code",
   "execution_count": null,
   "id": "8a78b6cc",
   "metadata": {},
   "outputs": [],
   "source": []
  },
  {
   "cell_type": "markdown",
   "id": "30f3e5e7",
   "metadata": {},
   "source": [
    "#AUC"
   ]
  },
  {
   "cell_type": "markdown",
   "id": "ea9331de",
   "metadata": {},
   "source": [
    "Training Cross-validation Metrics Comparison"
   ]
  },
  {
   "cell_type": "code",
   "execution_count": 1,
   "id": "6f00556c",
   "metadata": {},
   "outputs": [
    {
     "data": {
      "image/png": "[encoded data removed]",
      "text/plain": [
       "<Figure size 640x480 with 1 Axes>"
      ]
     },
     "metadata": {},
     "output_type": "display_data"
    }
   ],
   "source": [
    "import pandas as pd\n",
    "import matplotlib.pyplot as plt\n",
    "\n",
    "# Read data from the Excel file\n",
    "data = pd.read_excel('./result/Training Cross-validation Metrics.xlsx')\n",
    "\n",
    "# Extract the list of algorithms from the columns (excluding the first column)\n",
    "algorithms = data.columns.tolist()[1:]\n",
    "\n",
    "# Extract the list of metrics from the first column\n",
    "metrics = data.iloc[:, 0].tolist()\n",
    "\n",
    "# Extract the values of the metrics for each algorithm\n",
    "values = data.iloc[:, 1:].values\n",
    "\n",
    "# Number of metrics\n",
    "num_metrics = len(metrics)\n",
    "\n",
    "# Width of each bar in the bar plot\n",
    "bar_width = 0.2\n",
    "\n",
    "# Index range for the algorithms\n",
    "index = range(len(algorithms))\n",
    "\n",
    "# Colors for the bars representing different metrics\n",
    "colors = ['#66c2a5', '#fc8d62', '#8da0cb', '#e78ac3']\n",
    "\n",
    "# Loop through each metric to plot bars\n",
    "for i in range(num_metrics):\n",
    "    # Plot bars for the current metric\n",
    "    bars = plt.bar([x + i * bar_width for x in index], values[i, :], bar_width, label=metrics[i], color=colors[i])\n",
    "    \n",
    "    # Add text annotations for the bar heights\n",
    "    for bar in bars:\n",
    "        height = bar.get_height()\n",
    "        plt.text(bar.get_x() + bar.get_width() / 2, height, f'{height:.3f}', ha='center', va='bottom', fontsize=6)\n",
    "\n",
    "# Set the x-ticks to be in the middle of the group of bars for each algorithm\n",
    "plt.xticks([idx + bar_width * (num_metrics - 1) / 2 for idx in index], algorithms)\n",
    "\n",
    "# Set the y-axis limit from 0 to 1\n",
    "plt.ylim(0, 1)\n",
    "\n",
    "# Add a legend with the number of columns equal to the number of metrics\n",
    "plt.legend(ncol=num_metrics, loc='upper center')\n",
    "\n",
    "# Adjust the layout to fit everything\n",
    "plt.tight_layout()\n",
    "\n",
    "# Save the plot to a PNG file\n",
    "plt.savefig('./result/Training Cross-validation Metrics Comparison.png', dpi=300)\n",
    "\n",
    "# Display the plot\n",
    "plt.show()\n"
   ]
  },
  {
   "cell_type": "code",
   "execution_count": null,
   "id": "4681cfc4",
   "metadata": {},
   "outputs": [],
   "source": [
    "MCC AUROC"
   ]
  },
  {
   "cell_type": "code",
   "execution_count": 7,
   "id": "c4a8798e",
   "metadata": {},
   "outputs": [
    {
     "data": {
      "image/png": "[encoded data removed]",
      "text/plain": [
       "<Figure size 640x480 with 1 Axes>"
      ]
     },
     "metadata": {},
     "output_type": "display_data"
    }
   ],
   "source": [
    "import pandas as pd\n",
    "import matplotlib.pyplot as plt\n",
    "\n",
    "# Read data from the Excel file\n",
    "data = pd.read_excel('./result/MCC AUROC.xlsx')\n",
    "\n",
    "# Extract the list of algorithms from the columns (excluding the first column)\n",
    "algorithms = data.columns.tolist()[1:]\n",
    "\n",
    "# Extract the list of metrics from the first column\n",
    "metrics = data.iloc[:, 0].tolist()\n",
    "\n",
    "# Extract the values of the metrics for each algorithm\n",
    "value = data.iloc[:, 1:].values\n",
    "\n",
    "# Number of metrics\n",
    "num_metrics = len(metrics)\n",
    "\n",
    "# Width of each bar in the bar plot\n",
    "bar_width = 0.2\n",
    "\n",
    "# Index range for the algorithms\n",
    "index = range(len(algorithms))\n",
    "\n",
    "# Colors for the bars representing different metrics\n",
    "colors = ['#66c2a5', '#fc8d62', '#8da0cb']\n",
    "\n",
    "# Loop through each metric to plot bars\n",
    "for i in range(num_metrics):\n",
    "    # Plot bars for the current metric\n",
    "    bars = plt.bar([x + i * bar_width for x in index], value[i, :], bar_width, label=metrics[i], color=colors[i])\n",
    "    \n",
    "    # Add text annotations for the bar heights\n",
    "    for bar in bars:\n",
    "        height = bar.get_height()\n",
    "        plt.text(bar.get_x() + bar.get_width() / 2, height, f'{height:.3f}', ha='center', va='bottom', fontsize=10)\n",
    "\n",
    "# Set the x-ticks to be in the middle of the group of bars for each algorithm\n",
    "plt.xticks([idx + bar_width * (num_metrics - 1) / 2 for idx in index], algorithms)\n",
    "\n",
    "# Set the y-axis limit from 0 to 1\n",
    "plt.ylim(0, 1)\n",
    "\n",
    "# Add a legend with the number of columns equal to the number of metrics\n",
    "plt.legend(ncol=num_metrics, loc='upper center')\n",
    "\n",
    "# Adjust the layout to fit everything\n",
    "plt.tight_layout()\n",
    "\n",
    "# Save the plot to a PNG file\n",
    "plt.savefig('./result/MCC AUROC Comparison.png', dpi=300)\n",
    "\n",
    "# Display the plot\n",
    "plt.show()\n"
   ]
  },
  {
   "cell_type": "code",
   "execution_count": null,
   "id": "c106413e",
   "metadata": {},
   "outputs": [],
   "source": []
  }
 ],
 "metadata": {
  "kernelspec": {
   "display_name": "Python 3 (ipykernel)",
   "language": "python",
   "name": "python3"
  },
  "language_info": {
   "codemirror_mode": {
    "name": "ipython",
    "version": 3
   },
   "file_extension": ".py",
   "mimetype": "text/x-python",
   "name": "python",
   "nbconvert_exporter": "python",
   "pygments_lexer": "ipython3",
   "version": "3.9.13"
  }
 },
 "nbformat": 4,
 "nbformat_minor": 5
}
