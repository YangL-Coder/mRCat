{
 "cells": [
  {
   "cell_type": "code",
   "execution_count": 24,
   "id": "26d4b6ef",
   "metadata": {},
   "outputs": [],
   "source": [
    "import pandas as pd\n",
    "import numpy as np\n",
    "import csv\n",
    "from tqdm import tqdm\n",
    "from sklearn.model_selection import cross_val_score, StratifiedKFold\n",
    "from sklearn.svm import SVC\n",
    "from sklearn.preprocessing import StandardScaler\n",
    "from sklearn.metrics import make_scorer, accuracy_score, precision_score, recall_score, f1_score\n",
    "import matplotlib.pyplot as plt\n",
    "from sklearn.model_selection import StratifiedKFold, ParameterGrid\n",
    "from sklearn.model_selection import RepeatedStratifiedKFold\n",
    "from sklearn import svm\n",
    "import seaborn as sns\n",
    "import warnings\n",
    "warnings.filterwarnings(\"ignore\")\n"
   ]
  },
  {
   "cell_type": "code",
   "execution_count": 25,
   "id": "195848cb",
   "metadata": {},
   "outputs": [
    {
     "data": {
      "text/html": [
       "<div>\n",
       "<style scoped>\n",
       "    .dataframe tbody tr th:only-of-type {\n",
       "        vertical-align: middle;\n",
       "    }\n",
       "\n",
       "    .dataframe tbody tr th {\n",
       "        vertical-align: top;\n",
       "    }\n",
       "\n",
       "    .dataframe thead th {\n",
       "        text-align: right;\n",
       "    }\n",
       "</style>\n",
       "<table border=\"1\" class=\"dataframe\">\n",
       "  <thead>\n",
       "    <tr style=\"text-align: right;\">\n",
       "      <th></th>\n",
       "      <th>0</th>\n",
       "      <th>1</th>\n",
       "      <th>2</th>\n",
       "      <th>3</th>\n",
       "      <th>4</th>\n",
       "      <th>5</th>\n",
       "      <th>6</th>\n",
       "      <th>7</th>\n",
       "      <th>8</th>\n",
       "      <th>9</th>\n",
       "      <th>...</th>\n",
       "      <th>759</th>\n",
       "      <th>760</th>\n",
       "      <th>761</th>\n",
       "      <th>762</th>\n",
       "      <th>763</th>\n",
       "      <th>764</th>\n",
       "      <th>765</th>\n",
       "      <th>766</th>\n",
       "      <th>767</th>\n",
       "      <th>label</th>\n",
       "    </tr>\n",
       "  </thead>\n",
       "  <tbody>\n",
       "    <tr>\n",
       "      <th>0</th>\n",
       "      <td>0.008038</td>\n",
       "      <td>0.005472</td>\n",
       "      <td>0.007248</td>\n",
       "      <td>0.007894</td>\n",
       "      <td>0.007398</td>\n",
       "      <td>0.004448</td>\n",
       "      <td>0.000894</td>\n",
       "      <td>0.007232</td>\n",
       "      <td>0.009605</td>\n",
       "      <td>0.007154</td>\n",
       "      <td>...</td>\n",
       "      <td>-0.047920</td>\n",
       "      <td>-0.044799</td>\n",
       "      <td>0.009836</td>\n",
       "      <td>-0.027684</td>\n",
       "      <td>-0.060108</td>\n",
       "      <td>0.051503</td>\n",
       "      <td>0.074873</td>\n",
       "      <td>0.094912</td>\n",
       "      <td>0.142718</td>\n",
       "      <td>1</td>\n",
       "    </tr>\n",
       "    <tr>\n",
       "      <th>1</th>\n",
       "      <td>0.006421</td>\n",
       "      <td>0.004846</td>\n",
       "      <td>0.007124</td>\n",
       "      <td>0.006833</td>\n",
       "      <td>0.007555</td>\n",
       "      <td>0.005529</td>\n",
       "      <td>0.002641</td>\n",
       "      <td>0.006684</td>\n",
       "      <td>0.008229</td>\n",
       "      <td>0.006792</td>\n",
       "      <td>...</td>\n",
       "      <td>-0.063734</td>\n",
       "      <td>-0.007245</td>\n",
       "      <td>0.007870</td>\n",
       "      <td>-0.022348</td>\n",
       "      <td>-0.066921</td>\n",
       "      <td>0.064694</td>\n",
       "      <td>0.101658</td>\n",
       "      <td>0.116233</td>\n",
       "      <td>0.136837</td>\n",
       "      <td>1</td>\n",
       "    </tr>\n",
       "    <tr>\n",
       "      <th>2</th>\n",
       "      <td>0.012833</td>\n",
       "      <td>0.005971</td>\n",
       "      <td>0.006511</td>\n",
       "      <td>0.007626</td>\n",
       "      <td>0.007715</td>\n",
       "      <td>0.005825</td>\n",
       "      <td>0.001119</td>\n",
       "      <td>0.006599</td>\n",
       "      <td>0.007285</td>\n",
       "      <td>0.005525</td>\n",
       "      <td>...</td>\n",
       "      <td>-0.080484</td>\n",
       "      <td>-0.063357</td>\n",
       "      <td>0.037052</td>\n",
       "      <td>-0.023793</td>\n",
       "      <td>-0.052618</td>\n",
       "      <td>0.047666</td>\n",
       "      <td>0.088847</td>\n",
       "      <td>0.100192</td>\n",
       "      <td>0.156532</td>\n",
       "      <td>1</td>\n",
       "    </tr>\n",
       "    <tr>\n",
       "      <th>3</th>\n",
       "      <td>0.013917</td>\n",
       "      <td>0.006805</td>\n",
       "      <td>0.005778</td>\n",
       "      <td>0.013393</td>\n",
       "      <td>0.008006</td>\n",
       "      <td>0.004290</td>\n",
       "      <td>0.000706</td>\n",
       "      <td>0.007448</td>\n",
       "      <td>0.006812</td>\n",
       "      <td>0.002914</td>\n",
       "      <td>...</td>\n",
       "      <td>-0.044457</td>\n",
       "      <td>-0.043053</td>\n",
       "      <td>0.013077</td>\n",
       "      <td>-0.001783</td>\n",
       "      <td>-0.055099</td>\n",
       "      <td>0.052132</td>\n",
       "      <td>0.093488</td>\n",
       "      <td>0.079941</td>\n",
       "      <td>0.162534</td>\n",
       "      <td>1</td>\n",
       "    </tr>\n",
       "    <tr>\n",
       "      <th>4</th>\n",
       "      <td>0.017324</td>\n",
       "      <td>0.006722</td>\n",
       "      <td>0.007164</td>\n",
       "      <td>0.007420</td>\n",
       "      <td>0.007784</td>\n",
       "      <td>0.003431</td>\n",
       "      <td>0.001093</td>\n",
       "      <td>0.007214</td>\n",
       "      <td>0.006707</td>\n",
       "      <td>0.006244</td>\n",
       "      <td>...</td>\n",
       "      <td>-0.056244</td>\n",
       "      <td>-0.031527</td>\n",
       "      <td>0.027563</td>\n",
       "      <td>-0.006933</td>\n",
       "      <td>-0.035199</td>\n",
       "      <td>0.053570</td>\n",
       "      <td>0.106644</td>\n",
       "      <td>0.127546</td>\n",
       "      <td>0.129778</td>\n",
       "      <td>1</td>\n",
       "    </tr>\n",
       "    <tr>\n",
       "      <th>...</th>\n",
       "      <td>...</td>\n",
       "      <td>...</td>\n",
       "      <td>...</td>\n",
       "      <td>...</td>\n",
       "      <td>...</td>\n",
       "      <td>...</td>\n",
       "      <td>...</td>\n",
       "      <td>...</td>\n",
       "      <td>...</td>\n",
       "      <td>...</td>\n",
       "      <td>...</td>\n",
       "      <td>...</td>\n",
       "      <td>...</td>\n",
       "      <td>...</td>\n",
       "      <td>...</td>\n",
       "      <td>...</td>\n",
       "      <td>...</td>\n",
       "      <td>...</td>\n",
       "      <td>...</td>\n",
       "      <td>...</td>\n",
       "      <td>...</td>\n",
       "    </tr>\n",
       "    <tr>\n",
       "      <th>4657</th>\n",
       "      <td>0.020823</td>\n",
       "      <td>0.006709</td>\n",
       "      <td>0.006760</td>\n",
       "      <td>0.009948</td>\n",
       "      <td>0.007638</td>\n",
       "      <td>0.003582</td>\n",
       "      <td>0.001047</td>\n",
       "      <td>0.007103</td>\n",
       "      <td>0.007427</td>\n",
       "      <td>0.004873</td>\n",
       "      <td>...</td>\n",
       "      <td>-0.071451</td>\n",
       "      <td>-0.064951</td>\n",
       "      <td>0.026554</td>\n",
       "      <td>-0.024152</td>\n",
       "      <td>-0.040399</td>\n",
       "      <td>0.054827</td>\n",
       "      <td>0.108673</td>\n",
       "      <td>0.107649</td>\n",
       "      <td>0.108352</td>\n",
       "      <td>0</td>\n",
       "    </tr>\n",
       "    <tr>\n",
       "      <th>4658</th>\n",
       "      <td>0.002121</td>\n",
       "      <td>0.007038</td>\n",
       "      <td>0.006064</td>\n",
       "      <td>0.003244</td>\n",
       "      <td>0.007038</td>\n",
       "      <td>0.005526</td>\n",
       "      <td>0.002388</td>\n",
       "      <td>0.005519</td>\n",
       "      <td>0.008397</td>\n",
       "      <td>0.006210</td>\n",
       "      <td>...</td>\n",
       "      <td>-0.069669</td>\n",
       "      <td>-0.118523</td>\n",
       "      <td>0.001044</td>\n",
       "      <td>-0.004282</td>\n",
       "      <td>-0.044469</td>\n",
       "      <td>0.064367</td>\n",
       "      <td>0.085585</td>\n",
       "      <td>0.090057</td>\n",
       "      <td>0.146606</td>\n",
       "      <td>0</td>\n",
       "    </tr>\n",
       "    <tr>\n",
       "      <th>4659</th>\n",
       "      <td>0.018389</td>\n",
       "      <td>0.005796</td>\n",
       "      <td>0.007591</td>\n",
       "      <td>0.005788</td>\n",
       "      <td>0.005100</td>\n",
       "      <td>0.006153</td>\n",
       "      <td>0.002046</td>\n",
       "      <td>0.007090</td>\n",
       "      <td>0.005993</td>\n",
       "      <td>0.006751</td>\n",
       "      <td>...</td>\n",
       "      <td>-0.073933</td>\n",
       "      <td>-0.074885</td>\n",
       "      <td>0.044387</td>\n",
       "      <td>-0.000744</td>\n",
       "      <td>-0.048722</td>\n",
       "      <td>-0.010145</td>\n",
       "      <td>0.098738</td>\n",
       "      <td>0.119175</td>\n",
       "      <td>0.117543</td>\n",
       "      <td>0</td>\n",
       "    </tr>\n",
       "    <tr>\n",
       "      <th>4660</th>\n",
       "      <td>0.001512</td>\n",
       "      <td>0.001544</td>\n",
       "      <td>0.005322</td>\n",
       "      <td>0.000000</td>\n",
       "      <td>0.003088</td>\n",
       "      <td>0.007880</td>\n",
       "      <td>0.001362</td>\n",
       "      <td>0.001574</td>\n",
       "      <td>0.003991</td>\n",
       "      <td>0.010899</td>\n",
       "      <td>...</td>\n",
       "      <td>-0.071051</td>\n",
       "      <td>-0.068419</td>\n",
       "      <td>-0.018095</td>\n",
       "      <td>0.009988</td>\n",
       "      <td>-0.081945</td>\n",
       "      <td>0.103257</td>\n",
       "      <td>-0.006743</td>\n",
       "      <td>0.098912</td>\n",
       "      <td>0.106491</td>\n",
       "      <td>0</td>\n",
       "    </tr>\n",
       "    <tr>\n",
       "      <th>4661</th>\n",
       "      <td>0.006508</td>\n",
       "      <td>0.003946</td>\n",
       "      <td>0.005190</td>\n",
       "      <td>0.002074</td>\n",
       "      <td>0.002492</td>\n",
       "      <td>0.006784</td>\n",
       "      <td>0.002657</td>\n",
       "      <td>0.002541</td>\n",
       "      <td>0.005190</td>\n",
       "      <td>0.005315</td>\n",
       "      <td>...</td>\n",
       "      <td>-0.059454</td>\n",
       "      <td>-0.026457</td>\n",
       "      <td>0.048786</td>\n",
       "      <td>0.016240</td>\n",
       "      <td>-0.058569</td>\n",
       "      <td>-0.023089</td>\n",
       "      <td>0.105976</td>\n",
       "      <td>0.169302</td>\n",
       "      <td>0.109432</td>\n",
       "      <td>0</td>\n",
       "    </tr>\n",
       "  </tbody>\n",
       "</table>\n",
       "<p>4662 rows × 840 columns</p>\n",
       "</div>"
      ],
      "text/plain": [
       "             0         1         2         3         4         5         6  \\\n",
       "0     0.008038  0.005472  0.007248  0.007894  0.007398  0.004448  0.000894   \n",
       "1     0.006421  0.004846  0.007124  0.006833  0.007555  0.005529  0.002641   \n",
       "2     0.012833  0.005971  0.006511  0.007626  0.007715  0.005825  0.001119   \n",
       "3     0.013917  0.006805  0.005778  0.013393  0.008006  0.004290  0.000706   \n",
       "4     0.017324  0.006722  0.007164  0.007420  0.007784  0.003431  0.001093   \n",
       "...        ...       ...       ...       ...       ...       ...       ...   \n",
       "4657  0.020823  0.006709  0.006760  0.009948  0.007638  0.003582  0.001047   \n",
       "4658  0.002121  0.007038  0.006064  0.003244  0.007038  0.005526  0.002388   \n",
       "4659  0.018389  0.005796  0.007591  0.005788  0.005100  0.006153  0.002046   \n",
       "4660  0.001512  0.001544  0.005322  0.000000  0.003088  0.007880  0.001362   \n",
       "4661  0.006508  0.003946  0.005190  0.002074  0.002492  0.006784  0.002657   \n",
       "\n",
       "             7         8         9  ...       759       760       761  \\\n",
       "0     0.007232  0.009605  0.007154  ... -0.047920 -0.044799  0.009836   \n",
       "1     0.006684  0.008229  0.006792  ... -0.063734 -0.007245  0.007870   \n",
       "2     0.006599  0.007285  0.005525  ... -0.080484 -0.063357  0.037052   \n",
       "3     0.007448  0.006812  0.002914  ... -0.044457 -0.043053  0.013077   \n",
       "4     0.007214  0.006707  0.006244  ... -0.056244 -0.031527  0.027563   \n",
       "...        ...       ...       ...  ...       ...       ...       ...   \n",
       "4657  0.007103  0.007427  0.004873  ... -0.071451 -0.064951  0.026554   \n",
       "4658  0.005519  0.008397  0.006210  ... -0.069669 -0.118523  0.001044   \n",
       "4659  0.007090  0.005993  0.006751  ... -0.073933 -0.074885  0.044387   \n",
       "4660  0.001574  0.003991  0.010899  ... -0.071051 -0.068419 -0.018095   \n",
       "4661  0.002541  0.005190  0.005315  ... -0.059454 -0.026457  0.048786   \n",
       "\n",
       "           762       763       764       765       766       767  label  \n",
       "0    -0.027684 -0.060108  0.051503  0.074873  0.094912  0.142718      1  \n",
       "1    -0.022348 -0.066921  0.064694  0.101658  0.116233  0.136837      1  \n",
       "2    -0.023793 -0.052618  0.047666  0.088847  0.100192  0.156532      1  \n",
       "3    -0.001783 -0.055099  0.052132  0.093488  0.079941  0.162534      1  \n",
       "4    -0.006933 -0.035199  0.053570  0.106644  0.127546  0.129778      1  \n",
       "...        ...       ...       ...       ...       ...       ...    ...  \n",
       "4657 -0.024152 -0.040399  0.054827  0.108673  0.107649  0.108352      0  \n",
       "4658 -0.004282 -0.044469  0.064367  0.085585  0.090057  0.146606      0  \n",
       "4659 -0.000744 -0.048722 -0.010145  0.098738  0.119175  0.117543      0  \n",
       "4660  0.009988 -0.081945  0.103257 -0.006743  0.098912  0.106491      0  \n",
       "4661  0.016240 -0.058569 -0.023089  0.105976  0.169302  0.109432      0  \n",
       "\n",
       "[4662 rows x 840 columns]"
      ]
     },
     "execution_count": 25,
     "metadata": {},
     "output_type": "execute_result"
    }
   ],
   "source": [
    "# training dataset loading\n",
    "Training_csv_file_path = './data/TrainingSet/mRNA_sublocation_TrainingSet_NC-BERTdata.csv'\n",
    "Training_data= pd.read_csv(Training_csv_file_path)\n",
    "Training_data"
   ]
  },
  {
   "cell_type": "code",
   "execution_count": 26,
   "id": "f3a3c51c",
   "metadata": {},
   "outputs": [],
   "source": [
    "# separate sequence features and labels\n",
    "X_Train = Training_data.drop(columns=['label']).values\n",
    "y_Train = Training_data['label'].values"
   ]
  },
  {
   "cell_type": "code",
   "execution_count": 27,
   "id": "84c236ee",
   "metadata": {},
   "outputs": [],
   "source": [
    "# the training data and test data are standardized\n",
    "sc = StandardScaler()\n",
    "sc.fit(X_Train)\n",
    "X_Train = sc.transform(X_Train)"
   ]
  },
  {
   "cell_type": "code",
   "execution_count": 28,
   "id": "a2f08e18",
   "metadata": {},
   "outputs": [],
   "source": [
    "from sklearn.decomposition import PCA\n",
    "import numpy as np\n",
    "# Initialize PCA and set the number of principal components\n",
    "pca = PCA(n_components=72)\n",
    "# Fit PCA on the training data and transform the training data to its principal components\n",
    "X_Train = pca.fit_transform(X_Train)\n"
   ]
  },
  {
   "cell_type": "code",
   "execution_count": 29,
   "id": "d4bd2581",
   "metadata": {},
   "outputs": [
    {
     "name": "stderr",
     "output_type": "stream",
     "text": [
      "Hyperparameter search:   3%|█▌                                                       | 1/36 [13:18<7:46:00, 798.87s/it]"
     ]
    },
    {
     "name": "stdout",
     "output_type": "stream",
     "text": [
      " params: {'C': 0.1, 'coef0': -1, 'degree': 2, 'gamma': 0.1}\n",
      " acc_mean: 0.5649936289324667, acc_std: 0.0004102540792233376\n",
      " prec_mean: 0.0, prec_std: 0.0\n",
      " rec_mean: 0.0, rec_std: 0.0\n",
      " f1_mean: 0.0, f1_std: 0.0\n"
     ]
    },
    {
     "name": "stderr",
     "output_type": "stream",
     "text": [
      "\r",
      "Hyperparameter search:   6%|███▏                                                     | 2/36 [25:50<7:17:01, 771.22s/it]"
     ]
    },
    {
     "name": "stdout",
     "output_type": "stream",
     "text": [
      " params: {'C': 0.1, 'coef0': -1, 'degree': 2, 'gamma': 0.01}\n",
      " acc_mean: 0.5649936289324667, acc_std: 0.0004102540792233376\n",
      " prec_mean: 0.0, prec_std: 0.0\n",
      " rec_mean: 0.0, rec_std: 0.0\n",
      " f1_mean: 0.0, f1_std: 0.0\n"
     ]
    },
    {
     "name": "stderr",
     "output_type": "stream",
     "text": [
      "\r",
      "Hyperparameter search:   8%|████▊                                                    | 3/36 [38:56<7:07:49, 777.86s/it]"
     ]
    },
    {
     "name": "stdout",
     "output_type": "stream",
     "text": [
      " params: {'C': 0.1, 'coef0': -1, 'degree': 3, 'gamma': 0.1}\n",
      " acc_mean: 0.5649936289324667, acc_std: 0.0004102540792233376\n",
      " prec_mean: 0.0, prec_std: 0.0\n",
      " rec_mean: 0.0, rec_std: 0.0\n",
      " f1_mean: 0.0, f1_std: 0.0\n"
     ]
    },
    {
     "name": "stderr",
     "output_type": "stream",
     "text": [
      "\r",
      "Hyperparameter search:  11%|██████▎                                                  | 4/36 [51:39<6:51:44, 772.03s/it]"
     ]
    },
    {
     "name": "stdout",
     "output_type": "stream",
     "text": [
      " params: {'C': 0.1, 'coef0': -1, 'degree': 3, 'gamma': 0.01}\n",
      " acc_mean: 0.5649936289324667, acc_std: 0.0004102540792233376\n",
      " prec_mean: 0.0, prec_std: 0.0\n",
      " rec_mean: 0.0, rec_std: 0.0\n",
      " f1_mean: 0.0, f1_std: 0.0\n"
     ]
    },
    {
     "name": "stderr",
     "output_type": "stream",
     "text": [
      "\r",
      "Hyperparameter search:  14%|███████▋                                               | 5/36 [1:04:53<6:42:57, 779.92s/it]"
     ]
    },
    {
     "name": "stdout",
     "output_type": "stream",
     "text": [
      " params: {'C': 0.1, 'coef0': 0, 'degree': 2, 'gamma': 0.1}\n",
      " acc_mean: 0.5649936289324667, acc_std: 0.0004102540792233376\n",
      " prec_mean: 0.0, prec_std: 0.0\n",
      " rec_mean: 0.0, rec_std: 0.0\n",
      " f1_mean: 0.0, f1_std: 0.0\n"
     ]
    },
    {
     "name": "stderr",
     "output_type": "stream",
     "text": [
      "\r",
      "Hyperparameter search:  17%|█████████▏                                             | 6/36 [1:17:34<6:26:45, 773.52s/it]"
     ]
    },
    {
     "name": "stdout",
     "output_type": "stream",
     "text": [
      " params: {'C': 0.1, 'coef0': 0, 'degree': 2, 'gamma': 0.01}\n",
      " acc_mean: 0.5649936289324667, acc_std: 0.0004102540792233376\n",
      " prec_mean: 0.0, prec_std: 0.0\n",
      " rec_mean: 0.0, rec_std: 0.0\n",
      " f1_mean: 0.0, f1_std: 0.0\n"
     ]
    },
    {
     "name": "stderr",
     "output_type": "stream",
     "text": [
      "\r",
      "Hyperparameter search:  19%|██████████▋                                            | 7/36 [1:30:27<6:13:42, 773.20s/it]"
     ]
    },
    {
     "name": "stdout",
     "output_type": "stream",
     "text": [
      " params: {'C': 0.1, 'coef0': 0, 'degree': 3, 'gamma': 0.1}\n",
      " acc_mean: 0.5649936289324667, acc_std: 0.0004102540792233376\n",
      " prec_mean: 0.0, prec_std: 0.0\n",
      " rec_mean: 0.0, rec_std: 0.0\n",
      " f1_mean: 0.0, f1_std: 0.0\n"
     ]
    },
    {
     "name": "stderr",
     "output_type": "stream",
     "text": [
      "\r",
      "Hyperparameter search:  22%|████████████▏                                          | 8/36 [1:42:52<5:56:40, 764.31s/it]"
     ]
    },
    {
     "name": "stdout",
     "output_type": "stream",
     "text": [
      " params: {'C': 0.1, 'coef0': 0, 'degree': 3, 'gamma': 0.01}\n",
      " acc_mean: 0.5649936289324667, acc_std: 0.0004102540792233376\n",
      " prec_mean: 0.0, prec_std: 0.0\n",
      " rec_mean: 0.0, rec_std: 0.0\n",
      " f1_mean: 0.0, f1_std: 0.0\n"
     ]
    },
    {
     "name": "stderr",
     "output_type": "stream",
     "text": [
      "\r",
      "Hyperparameter search:  25%|█████████████▊                                         | 9/36 [1:56:01<5:47:21, 771.90s/it]"
     ]
    },
    {
     "name": "stdout",
     "output_type": "stream",
     "text": [
      " params: {'C': 0.1, 'coef0': 1, 'degree': 2, 'gamma': 0.1}\n",
      " acc_mean: 0.5649936289324667, acc_std: 0.0004102540792233376\n",
      " prec_mean: 0.0, prec_std: 0.0\n",
      " rec_mean: 0.0, rec_std: 0.0\n",
      " f1_mean: 0.0, f1_std: 0.0\n"
     ]
    },
    {
     "name": "stderr",
     "output_type": "stream",
     "text": [
      "\r",
      "Hyperparameter search:  28%|███████████████                                       | 10/36 [2:08:21<5:30:14, 762.10s/it]"
     ]
    },
    {
     "name": "stdout",
     "output_type": "stream",
     "text": [
      " params: {'C': 0.1, 'coef0': 1, 'degree': 2, 'gamma': 0.01}\n",
      " acc_mean: 0.5649936289324667, acc_std: 0.0004102540792233376\n",
      " prec_mean: 0.0, prec_std: 0.0\n",
      " rec_mean: 0.0, rec_std: 0.0\n",
      " f1_mean: 0.0, f1_std: 0.0\n"
     ]
    },
    {
     "name": "stderr",
     "output_type": "stream",
     "text": [
      "\r",
      "Hyperparameter search:  31%|████████████████▌                                     | 11/36 [2:21:13<5:18:47, 765.09s/it]"
     ]
    },
    {
     "name": "stdout",
     "output_type": "stream",
     "text": [
      " params: {'C': 0.1, 'coef0': 1, 'degree': 3, 'gamma': 0.1}\n",
      " acc_mean: 0.5649936289324667, acc_std: 0.0004102540792233376\n",
      " prec_mean: 0.0, prec_std: 0.0\n",
      " rec_mean: 0.0, rec_std: 0.0\n",
      " f1_mean: 0.0, f1_std: 0.0\n"
     ]
    },
    {
     "name": "stderr",
     "output_type": "stream",
     "text": [
      "\r",
      "Hyperparameter search:  33%|██████████████████                                    | 12/36 [2:33:35<5:03:18, 758.27s/it]"
     ]
    },
    {
     "name": "stdout",
     "output_type": "stream",
     "text": [
      " params: {'C': 0.1, 'coef0': 1, 'degree': 3, 'gamma': 0.01}\n",
      " acc_mean: 0.5649936289324667, acc_std: 0.0004102540792233376\n",
      " prec_mean: 0.0, prec_std: 0.0\n",
      " rec_mean: 0.0, rec_std: 0.0\n",
      " f1_mean: 0.0, f1_std: 0.0\n"
     ]
    },
    {
     "name": "stderr",
     "output_type": "stream",
     "text": [
      "\r",
      "Hyperparameter search:  36%|███████████████████▌                                  | 13/36 [2:47:05<4:56:36, 773.76s/it]"
     ]
    },
    {
     "name": "stdout",
     "output_type": "stream",
     "text": [
      " params: {'C': 1, 'coef0': -1, 'degree': 2, 'gamma': 0.1}\n",
      " acc_mean: 0.5653368431705376, acc_std: 0.0006659439707549743\n",
      " prec_mean: 0.32, prec_std: 0.466476151587624\n",
      " rec_mean: 0.0007890530925013684, rec_std: 0.0011502339295616814\n",
      " f1_mean: 0.001574224470776195, f1_std: 0.0022948093181428507\n"
     ]
    },
    {
     "name": "stderr",
     "output_type": "stream",
     "text": [
      "\r",
      "Hyperparameter search:  39%|█████████████████████                                 | 14/36 [3:00:23<4:46:28, 781.30s/it]"
     ]
    },
    {
     "name": "stdout",
     "output_type": "stream",
     "text": [
      " params: {'C': 1, 'coef0': -1, 'degree': 2, 'gamma': 0.01}\n",
      " acc_mean: 0.670992881424543, acc_std: 0.012449408012700544\n",
      " prec_mean: 0.6945042934320366, prec_std: 0.0237640814168273\n",
      " rec_mean: 0.43569326765188837, rec_std: 0.023252699863501702\n",
      " f1_mean: 0.5351042485690182, f1_std: 0.0209556399748628\n"
     ]
    },
    {
     "name": "stderr",
     "output_type": "stream",
     "text": [
      "\r",
      "Hyperparameter search:  42%|██████████████████████▌                               | 15/36 [3:13:14<4:32:18, 778.00s/it]"
     ]
    },
    {
     "name": "stdout",
     "output_type": "stream",
     "text": [
      " params: {'C': 1, 'coef0': -1, 'degree': 3, 'gamma': 0.1}\n",
      " acc_mean: 0.5653368431705376, acc_std: 0.0006659439707549743\n",
      " prec_mean: 0.32, prec_std: 0.466476151587624\n",
      " rec_mean: 0.0007890530925013684, rec_std: 0.0011502339295616814\n",
      " f1_mean: 0.001574224470776195, f1_std: 0.0022948093181428507\n"
     ]
    },
    {
     "name": "stderr",
     "output_type": "stream",
     "text": [
      "\r",
      "Hyperparameter search:  44%|████████████████████████                              | 16/36 [3:25:24<4:14:31, 763.57s/it]"
     ]
    },
    {
     "name": "stdout",
     "output_type": "stream",
     "text": [
      " params: {'C': 1, 'coef0': -1, 'degree': 3, 'gamma': 0.01}\n",
      " acc_mean: 0.670992881424543, acc_std: 0.012449408012700544\n",
      " prec_mean: 0.6945042934320366, prec_std: 0.0237640814168273\n",
      " rec_mean: 0.43569326765188837, rec_std: 0.023252699863501702\n",
      " f1_mean: 0.5351042485690182, f1_std: 0.0209556399748628\n"
     ]
    },
    {
     "name": "stderr",
     "output_type": "stream",
     "text": [
      "\r",
      "Hyperparameter search:  47%|█████████████████████████▌                            | 17/36 [3:37:18<3:57:08, 748.87s/it]"
     ]
    },
    {
     "name": "stdout",
     "output_type": "stream",
     "text": [
      " params: {'C': 1, 'coef0': 0, 'degree': 2, 'gamma': 0.1}\n",
      " acc_mean: 0.5653368431705376, acc_std: 0.0006659439707549743\n",
      " prec_mean: 0.32, prec_std: 0.466476151587624\n",
      " rec_mean: 0.0007890530925013684, rec_std: 0.0011502339295616814\n",
      " f1_mean: 0.001574224470776195, f1_std: 0.0022948093181428507\n"
     ]
    },
    {
     "name": "stderr",
     "output_type": "stream",
     "text": [
      "\r",
      "Hyperparameter search:  50%|███████████████████████████                           | 18/36 [3:48:57<3:40:08, 733.79s/it]"
     ]
    },
    {
     "name": "stdout",
     "output_type": "stream",
     "text": [
      " params: {'C': 1, 'coef0': 0, 'degree': 2, 'gamma': 0.01}\n",
      " acc_mean: 0.670992881424543, acc_std: 0.012449408012700544\n",
      " prec_mean: 0.6945042934320366, prec_std: 0.0237640814168273\n",
      " rec_mean: 0.43569326765188837, rec_std: 0.023252699863501702\n",
      " f1_mean: 0.5351042485690182, f1_std: 0.0209556399748628\n"
     ]
    },
    {
     "name": "stderr",
     "output_type": "stream",
     "text": [
      "\r",
      "Hyperparameter search:  53%|████████████████████████████▌                         | 19/36 [4:00:49<3:26:04, 727.33s/it]"
     ]
    },
    {
     "name": "stdout",
     "output_type": "stream",
     "text": [
      " params: {'C': 1, 'coef0': 0, 'degree': 3, 'gamma': 0.1}\n",
      " acc_mean: 0.5653368431705376, acc_std: 0.0006659439707549743\n",
      " prec_mean: 0.32, prec_std: 0.466476151587624\n",
      " rec_mean: 0.0007890530925013684, rec_std: 0.0011502339295616814\n",
      " f1_mean: 0.001574224470776195, f1_std: 0.0022948093181428507\n"
     ]
    },
    {
     "name": "stderr",
     "output_type": "stream",
     "text": [
      "\r",
      "Hyperparameter search:  56%|██████████████████████████████                        | 20/36 [4:12:30<3:11:46, 719.18s/it]"
     ]
    },
    {
     "name": "stdout",
     "output_type": "stream",
     "text": [
      " params: {'C': 1, 'coef0': 0, 'degree': 3, 'gamma': 0.01}\n",
      " acc_mean: 0.670992881424543, acc_std: 0.012449408012700544\n",
      " prec_mean: 0.6945042934320366, prec_std: 0.0237640814168273\n",
      " rec_mean: 0.43569326765188837, rec_std: 0.023252699863501702\n",
      " f1_mean: 0.5351042485690182, f1_std: 0.0209556399748628\n"
     ]
    },
    {
     "name": "stderr",
     "output_type": "stream",
     "text": [
      "\r",
      "Hyperparameter search:  58%|███████████████████████████████▌                      | 21/36 [4:24:22<2:59:16, 717.10s/it]"
     ]
    },
    {
     "name": "stdout",
     "output_type": "stream",
     "text": [
      " params: {'C': 1, 'coef0': 1, 'degree': 2, 'gamma': 0.1}\n",
      " acc_mean: 0.5653368431705376, acc_std: 0.0006659439707549743\n",
      " prec_mean: 0.32, prec_std: 0.466476151587624\n",
      " rec_mean: 0.0007890530925013684, rec_std: 0.0011502339295616814\n",
      " f1_mean: 0.001574224470776195, f1_std: 0.0022948093181428507\n"
     ]
    },
    {
     "name": "stderr",
     "output_type": "stream",
     "text": [
      "\r",
      "Hyperparameter search:  61%|█████████████████████████████████                     | 22/36 [4:36:09<2:46:39, 714.26s/it]"
     ]
    },
    {
     "name": "stdout",
     "output_type": "stream",
     "text": [
      " params: {'C': 1, 'coef0': 1, 'degree': 2, 'gamma': 0.01}\n",
      " acc_mean: 0.670992881424543, acc_std: 0.012449408012700544\n",
      " prec_mean: 0.6945042934320366, prec_std: 0.0237640814168273\n",
      " rec_mean: 0.43569326765188837, rec_std: 0.023252699863501702\n",
      " f1_mean: 0.5351042485690182, f1_std: 0.0209556399748628\n"
     ]
    },
    {
     "name": "stderr",
     "output_type": "stream",
     "text": [
      "\r",
      "Hyperparameter search:  64%|██████████████████████████████████▌                   | 23/36 [4:48:40<2:37:05, 725.01s/it]"
     ]
    },
    {
     "name": "stdout",
     "output_type": "stream",
     "text": [
      " params: {'C': 1, 'coef0': 1, 'degree': 3, 'gamma': 0.1}\n",
      " acc_mean: 0.5653368431705376, acc_std: 0.0006659439707549743\n",
      " prec_mean: 0.32, prec_std: 0.466476151587624\n",
      " rec_mean: 0.0007890530925013684, rec_std: 0.0011502339295616814\n",
      " f1_mean: 0.001574224470776195, f1_std: 0.0022948093181428507\n"
     ]
    },
    {
     "name": "stderr",
     "output_type": "stream",
     "text": [
      "\r",
      "Hyperparameter search:  67%|████████████████████████████████████                  | 24/36 [5:00:58<2:25:47, 728.94s/it]"
     ]
    },
    {
     "name": "stdout",
     "output_type": "stream",
     "text": [
      " params: {'C': 1, 'coef0': 1, 'degree': 3, 'gamma': 0.01}\n",
      " acc_mean: 0.670992881424543, acc_std: 0.012449408012700544\n",
      " prec_mean: 0.6945042934320366, prec_std: 0.0237640814168273\n",
      " rec_mean: 0.43569326765188837, rec_std: 0.023252699863501702\n",
      " f1_mean: 0.5351042485690182, f1_std: 0.0209556399748628\n"
     ]
    },
    {
     "name": "stderr",
     "output_type": "stream",
     "text": [
      "\r",
      "Hyperparameter search:  69%|█████████████████████████████████████▌                | 25/36 [5:14:04<2:16:48, 746.27s/it]"
     ]
    },
    {
     "name": "stdout",
     "output_type": "stream",
     "text": [
      " params: {'C': 10, 'coef0': -1, 'degree': 2, 'gamma': 0.1}\n",
      " acc_mean: 0.5653368431705376, acc_std: 0.0006659439707549743\n",
      " prec_mean: 0.32, prec_std: 0.466476151587624\n",
      " rec_mean: 0.0007890530925013684, rec_std: 0.0011502339295616814\n",
      " f1_mean: 0.001574224470776195, f1_std: 0.0022948093181428507\n"
     ]
    },
    {
     "name": "stderr",
     "output_type": "stream",
     "text": [
      "\r",
      "Hyperparameter search:  72%|███████████████████████████████████████               | 26/36 [5:26:17<2:03:42, 742.22s/it]"
     ]
    },
    {
     "name": "stdout",
     "output_type": "stream",
     "text": [
      " params: {'C': 10, 'coef0': -1, 'degree': 2, 'gamma': 0.01}\n",
      " acc_mean: 0.6692660783204301, acc_std: 0.012482294540286164\n",
      " prec_mean: 0.6654669268847602, prec_std: 0.02062866873498607\n",
      " rec_mean: 0.48267027914614125, rec_std: 0.02337116398951598\n",
      " f1_mean: 0.5592055045231556, f1_std: 0.019466170211360306\n"
     ]
    },
    {
     "name": "stderr",
     "output_type": "stream",
     "text": [
      "\r",
      "Hyperparameter search:  75%|████████████████████████████████████████▌             | 27/36 [5:39:13<1:52:49, 752.18s/it]"
     ]
    },
    {
     "name": "stdout",
     "output_type": "stream",
     "text": [
      " params: {'C': 10, 'coef0': -1, 'degree': 3, 'gamma': 0.1}\n",
      " acc_mean: 0.5653368431705376, acc_std: 0.0006659439707549743\n",
      " prec_mean: 0.32, prec_std: 0.466476151587624\n",
      " rec_mean: 0.0007890530925013684, rec_std: 0.0011502339295616814\n",
      " f1_mean: 0.001574224470776195, f1_std: 0.0022948093181428507\n"
     ]
    },
    {
     "name": "stderr",
     "output_type": "stream",
     "text": [
      "\r",
      "Hyperparameter search:  78%|██████████████████████████████████████████            | 28/36 [5:51:16<1:39:09, 743.70s/it]"
     ]
    },
    {
     "name": "stdout",
     "output_type": "stream",
     "text": [
      " params: {'C': 10, 'coef0': -1, 'degree': 3, 'gamma': 0.01}\n",
      " acc_mean: 0.6692660783204301, acc_std: 0.012482294540286164\n",
      " prec_mean: 0.6654669268847602, prec_std: 0.02062866873498607\n",
      " rec_mean: 0.48267027914614125, rec_std: 0.02337116398951598\n",
      " f1_mean: 0.5592055045231556, f1_std: 0.019466170211360306\n"
     ]
    },
    {
     "name": "stderr",
     "output_type": "stream",
     "text": [
      "\r",
      "Hyperparameter search:  81%|███████████████████████████████████████████▌          | 29/36 [6:03:38<1:26:41, 743.02s/it]"
     ]
    },
    {
     "name": "stdout",
     "output_type": "stream",
     "text": [
      " params: {'C': 10, 'coef0': 0, 'degree': 2, 'gamma': 0.1}\n",
      " acc_mean: 0.5653368431705376, acc_std: 0.0006659439707549743\n",
      " prec_mean: 0.32, prec_std: 0.466476151587624\n",
      " rec_mean: 0.0007890530925013684, rec_std: 0.0011502339295616814\n",
      " f1_mean: 0.001574224470776195, f1_std: 0.0022948093181428507\n"
     ]
    },
    {
     "name": "stderr",
     "output_type": "stream",
     "text": [
      "\r",
      "Hyperparameter search:  83%|█████████████████████████████████████████████         | 30/36 [6:15:14<1:12:53, 728.98s/it]"
     ]
    },
    {
     "name": "stdout",
     "output_type": "stream",
     "text": [
      " params: {'C': 10, 'coef0': 0, 'degree': 2, 'gamma': 0.01}\n",
      " acc_mean: 0.6692660783204301, acc_std: 0.012482294540286164\n",
      " prec_mean: 0.6654669268847602, prec_std: 0.02062866873498607\n",
      " rec_mean: 0.48267027914614125, rec_std: 0.02337116398951598\n",
      " f1_mean: 0.5592055045231556, f1_std: 0.019466170211360306\n"
     ]
    },
    {
     "name": "stderr",
     "output_type": "stream",
     "text": [
      "\r",
      "Hyperparameter search:  86%|██████████████████████████████████████████████▌       | 31/36 [6:27:37<1:01:05, 733.19s/it]"
     ]
    },
    {
     "name": "stdout",
     "output_type": "stream",
     "text": [
      " params: {'C': 10, 'coef0': 0, 'degree': 3, 'gamma': 0.1}\n",
      " acc_mean: 0.5653368431705376, acc_std: 0.0006659439707549743\n",
      " prec_mean: 0.32, prec_std: 0.466476151587624\n",
      " rec_mean: 0.0007890530925013684, rec_std: 0.0011502339295616814\n",
      " f1_mean: 0.001574224470776195, f1_std: 0.0022948093181428507\n"
     ]
    },
    {
     "name": "stderr",
     "output_type": "stream",
     "text": [
      "\r",
      "Hyperparameter search:  89%|█████████████████████████████████████████████████▊      | 32/36 [6:39:15<48:10, 722.57s/it]"
     ]
    },
    {
     "name": "stdout",
     "output_type": "stream",
     "text": [
      " params: {'C': 10, 'coef0': 0, 'degree': 3, 'gamma': 0.01}\n",
      " acc_mean: 0.6692660783204301, acc_std: 0.012482294540286164\n",
      " prec_mean: 0.6654669268847602, prec_std: 0.02062866873498607\n",
      " rec_mean: 0.48267027914614125, rec_std: 0.02337116398951598\n",
      " f1_mean: 0.5592055045231556, f1_std: 0.019466170211360306\n"
     ]
    },
    {
     "name": "stderr",
     "output_type": "stream",
     "text": [
      "\r",
      "Hyperparameter search:  92%|███████████████████████████████████████████████████▎    | 33/36 [6:51:37<36:24, 728.28s/it]"
     ]
    },
    {
     "name": "stdout",
     "output_type": "stream",
     "text": [
      " params: {'C': 10, 'coef0': 1, 'degree': 2, 'gamma': 0.1}\n",
      " acc_mean: 0.5653368431705376, acc_std: 0.0006659439707549743\n",
      " prec_mean: 0.32, prec_std: 0.466476151587624\n",
      " rec_mean: 0.0007890530925013684, rec_std: 0.0011502339295616814\n",
      " f1_mean: 0.001574224470776195, f1_std: 0.0022948093181428507\n"
     ]
    },
    {
     "name": "stderr",
     "output_type": "stream",
     "text": [
      "\r",
      "Hyperparameter search:  94%|████████████████████████████████████████████████████▉   | 34/36 [7:03:08<23:54, 717.16s/it]"
     ]
    },
    {
     "name": "stdout",
     "output_type": "stream",
     "text": [
      " params: {'C': 10, 'coef0': 1, 'degree': 2, 'gamma': 0.01}\n",
      " acc_mean: 0.6692660783204301, acc_std: 0.012482294540286164\n",
      " prec_mean: 0.6654669268847602, prec_std: 0.02062866873498607\n",
      " rec_mean: 0.48267027914614125, rec_std: 0.02337116398951598\n",
      " f1_mean: 0.5592055045231556, f1_std: 0.019466170211360306\n"
     ]
    },
    {
     "name": "stderr",
     "output_type": "stream",
     "text": [
      "\r",
      "Hyperparameter search:  97%|██████████████████████████████████████████████████████▍ | 35/36 [7:15:35<12:06, 726.14s/it]"
     ]
    },
    {
     "name": "stdout",
     "output_type": "stream",
     "text": [
      " params: {'C': 10, 'coef0': 1, 'degree': 3, 'gamma': 0.1}\n",
      " acc_mean: 0.5653368431705376, acc_std: 0.0006659439707549743\n",
      " prec_mean: 0.32, prec_std: 0.466476151587624\n",
      " rec_mean: 0.0007890530925013684, rec_std: 0.0011502339295616814\n",
      " f1_mean: 0.001574224470776195, f1_std: 0.0022948093181428507\n"
     ]
    },
    {
     "name": "stderr",
     "output_type": "stream",
     "text": [
      "Hyperparameter search: 100%|████████████████████████████████████████████████████████| 36/36 [7:27:26<00:00, 745.74s/it]"
     ]
    },
    {
     "name": "stdout",
     "output_type": "stream",
     "text": [
      " params: {'C': 10, 'coef0': 1, 'degree': 3, 'gamma': 0.01}\n",
      " acc_mean: 0.6692660783204301, acc_std: 0.012482294540286164\n",
      " prec_mean: 0.6654669268847602, prec_std: 0.02062866873498607\n",
      " rec_mean: 0.48267027914614125, rec_std: 0.02337116398951598\n",
      " f1_mean: 0.5592055045231556, f1_std: 0.019466170211360306\n"
     ]
    },
    {
     "name": "stderr",
     "output_type": "stream",
     "text": [
      "\n"
     ]
    }
   ],
   "source": [
    "# Define hyperparameter ranges\n",
    "param_grid = {\n",
    "    'C':[0.1, 1, 10],\n",
    "    'gamma':[0.1, 0.01],\n",
    "    'degree':[2, 3],\n",
    "    'coef0':[-1, 0, 1]\n",
    "}\n",
    "\n",
    "# Create all combinations of hyperparameters\n",
    "grid = list(ParameterGrid(param_grid))\n",
    "\n",
    "# Initialize the result list\n",
    "results = []\n",
    "\n",
    "# 100 times 5-fold cross-validation\n",
    "rskf = RepeatedStratifiedKFold(n_splits=5, n_repeats=100, random_state=42)\n",
    "rskf.get_n_splits(X_Train, y_Train)\n",
    "\n",
    "# Open the CSV file for writing\n",
    "with open('./result/SVM-100times-5-fold cv.csv', mode='w', newline='') as file:\n",
    "    writer = csv.writer(file)\n",
    "    # Write the header\n",
    "    writer.writerow(['C', 'gamma', 'degree', 'coef0','accuracy', 'precision', 'recall', 'f1'])\n",
    "    \n",
    "    # Perform a grid search\n",
    "    for params in tqdm(grid, desc=\"Hyperparameter search\"):\n",
    "        acc_scores = []\n",
    "        prec_scores = []\n",
    "        rec_scores = []\n",
    "        f1_scores = []\n",
    "        \n",
    "        for i, (train_index, test_index) in enumerate(rskf.split(X_Train, y_Train)):\n",
    "            X_train, X_test = X_Train[train_index], X_Train[test_index]\n",
    "            y_train, y_test = y_Train[train_index], y_Train[test_index]\n",
    "            clf = svm.SVC(kernel='rbf',C=params['C'],gamma=params['gamma'],degree=params['degree'],coef0=params['coef0'])\n",
    "            clf.fit(X_train, y_train)\n",
    "            y_pred = clf.predict(X_test)\n",
    "            acc_scores.append(accuracy_score(y_test, y_pred))\n",
    "            prec_scores.append(precision_score(y_test, y_pred))\n",
    "            rec_scores.append(recall_score(y_test, y_pred))\n",
    "            f1_scores.append(f1_score(y_test, y_pred))\n",
    "        \n",
    "        # Save scores for this hyperparameter combination\n",
    "        for acc, prec, rec, f1 in zip(acc_scores, prec_scores, rec_scores, f1_scores):\n",
    "            writer.writerow([params['C'], params['gamma'],params['degree'],params['coef0'], acc, prec, rec, f1])\n",
    "\n",
    "        acc_mean, acc_std = np.mean(acc_scores), np.std(acc_scores)\n",
    "        prec_mean, prec_std = np.mean(prec_scores), np.std(prec_scores)\n",
    "        rec_mean, rec_std = np.mean(rec_scores), np.std(rec_scores)\n",
    "        f1_mean, f1_std = np.mean(f1_scores), np.std(f1_scores)\n",
    "        print(f\" params: {params}\")\n",
    "        print(f\" acc_mean: {acc_mean}, acc_std: {acc_std}\")\n",
    "        print(f\" prec_mean: {prec_mean}, prec_std: {prec_std}\")\n",
    "        print(f\" rec_mean: {rec_mean}, rec_std: {rec_std}\")\n",
    "        print(f\" f1_mean: {f1_mean}, f1_std: {f1_std}\")"
   ]
  },
  {
   "cell_type": "code",
   "execution_count": null,
   "id": "547d77bc",
   "metadata": {},
   "outputs": [],
   "source": []
  }
 ],
 "metadata": {
  "kernelspec": {
   "display_name": "Python 3 (ipykernel)",
   "language": "python",
   "name": "python3"
  },
  "language_info": {
   "codemirror_mode": {
    "name": "ipython",
    "version": 3
   },
   "file_extension": ".py",
   "mimetype": "text/x-python",
   "name": "python",
   "nbconvert_exporter": "python",
   "pygments_lexer": "ipython3",
   "version": "3.9.13"
  }
 },
 "nbformat": 4,
 "nbformat_minor": 5
}
