{
 "cells": [
  {
   "cell_type": "code",
   "execution_count": 169,
   "id": "8ff9bb91",
   "metadata": {},
   "outputs": [],
   "source": [
    "import pandas as pd\n",
    "from sklearn.preprocessing import StandardScaler\n",
    "import csv\n",
    "from sklearn.model_selection import train_test_split, cross_val_score, KFold\n",
    "from sklearn.metrics import confusion_matrix, accuracy_score, precision_score, recall_score, f1_score, classification_report\n",
    "from sklearn.linear_model import LogisticRegression\n",
    "from sklearn.metrics import roc_curve, auc\n",
    "from sklearn.model_selection import StratifiedKFold, ParameterGrid\n",
    "import matplotlib.pyplot as plt\n",
    "import numpy as np\n",
    "from sklearn.model_selection import StratifiedKFold, cross_val_predict, GridSearchCV\n",
    "from itertools import product\n",
    "from sklearn.model_selection import RepeatedStratifiedKFold\n",
    "import random\n",
    "from tqdm import tqdm\n",
    "import warnings\n",
    "warnings.filterwarnings(action='ignore')"
   ]
  },
  {
   "cell_type": "code",
   "execution_count": 170,
   "id": "8651e714",
   "metadata": {},
   "outputs": [],
   "source": [
    "# training dataset loading\n",
    "Training_csv_file_path = './data/TrainingSet/mRNA_sublocation_TrainingSet_NC-BERTdata.csv'\n",
    "Training_data= pd.read_csv(Training_csv_file_path)\n",
    "# separate sequence features and labels\n",
    "X_Train = Training_data.drop(columns=['label']).values\n",
    "y_Train = Training_data['label'].values\n",
    "# the training data and test data are standardized\n",
    "sc = StandardScaler()\n",
    "sc.fit(X_Train)\n",
    "X_Train = sc.transform(X_Train)"
   ]
  },
  {
   "cell_type": "code",
   "execution_count": 171,
   "id": "ba4b8116",
   "metadata": {},
   "outputs": [],
   "source": [
    "from sklearn.decomposition import PCA\n",
    "import numpy as np\n",
    "# Initialize PCA and set the number of principal components\n",
    "pca = PCA(n_components=72)\n",
    "# Fit PCA on the training data and transform the training data to its principal components\n",
    "X_Train = pca.fit_transform(X_Train)\n"
   ]
  },
  {
   "cell_type": "code",
   "execution_count": 172,
   "id": "ee9214ae",
   "metadata": {
    "scrolled": false
   },
   "outputs": [
    {
     "name": "stderr",
     "output_type": "stream",
     "text": [
      "Hyperparameter search:  17%|██████████▏                                                  | 1/6 [00:12<01:01, 12.21s/it]"
     ]
    },
    {
     "name": "stdout",
     "output_type": "stream",
     "text": [
      " params: {'C': 0.1, 'max_iter': 20}\n",
      " acc_mean: 0.6722951667287673, acc_std: 0.012969961031479117\n",
      " prec_mean: 0.6486376920566854, prec_std: 0.018885182142049258\n",
      " rec_mean: 0.5388819315210119, rec_std: 0.02280325758668309\n",
      " f1_mean: 0.5884417695788493, f1_std: 0.018098985087038316\n"
     ]
    },
    {
     "name": "stderr",
     "output_type": "stream",
     "text": [
      "\r",
      "Hyperparameter search:  33%|████████████████████▎                                        | 2/6 [00:24<00:48, 12.18s/it]"
     ]
    },
    {
     "name": "stdout",
     "output_type": "stream",
     "text": [
      " params: {'C': 0.1, 'max_iter': 30}\n",
      " acc_mean: 0.6722951667287673, acc_std: 0.012969961031479117\n",
      " prec_mean: 0.6486376920566854, prec_std: 0.018885182142049258\n",
      " rec_mean: 0.5388819315210119, rec_std: 0.02280325758668309\n",
      " f1_mean: 0.5884417695788493, f1_std: 0.018098985087038316\n"
     ]
    },
    {
     "name": "stderr",
     "output_type": "stream",
     "text": [
      "\r",
      "Hyperparameter search:  50%|██████████████████████████████▌                              | 3/6 [00:37<00:38, 12.73s/it]"
     ]
    },
    {
     "name": "stdout",
     "output_type": "stream",
     "text": [
      " params: {'C': 0.1, 'max_iter': 40}\n",
      " acc_mean: 0.6722951667287673, acc_std: 0.012969961031479117\n",
      " prec_mean: 0.6486376920566854, prec_std: 0.018885182142049258\n",
      " rec_mean: 0.5388819315210119, rec_std: 0.02280325758668309\n",
      " f1_mean: 0.5884417695788493, f1_std: 0.018098985087038316\n"
     ]
    },
    {
     "name": "stderr",
     "output_type": "stream",
     "text": [
      "\r",
      "Hyperparameter search:  67%|████████████████████████████████████████▋                    | 4/6 [00:51<00:26, 13.01s/it]"
     ]
    },
    {
     "name": "stdout",
     "output_type": "stream",
     "text": [
      " params: {'C': 0.5, 'max_iter': 20}\n",
      " acc_mean: 0.6722930208060206, acc_std: 0.01298025546880926\n",
      " prec_mean: 0.6486149890757782, prec_std: 0.01888484203465516\n",
      " rec_mean: 0.5389312534209085, rec_std: 0.02284683473603032\n",
      " f1_mean: 0.5884614422351592, f1_std: 0.018126956421275677\n"
     ]
    },
    {
     "name": "stderr",
     "output_type": "stream",
     "text": [
      "\r",
      "Hyperparameter search:  83%|██████████████████████████████████████████████████▊          | 5/6 [01:04<00:13, 13.11s/it]"
     ]
    },
    {
     "name": "stdout",
     "output_type": "stream",
     "text": [
      " params: {'C': 0.5, 'max_iter': 30}\n",
      " acc_mean: 0.6722930208060206, acc_std: 0.01298025546880926\n",
      " prec_mean: 0.6486149890757782, prec_std: 0.01888484203465516\n",
      " rec_mean: 0.5389312534209085, rec_std: 0.02284683473603032\n",
      " f1_mean: 0.5884614422351592, f1_std: 0.018126956421275677\n"
     ]
    },
    {
     "name": "stderr",
     "output_type": "stream",
     "text": [
      "Hyperparameter search: 100%|█████████████████████████████████████████████████████████████| 6/6 [01:17<00:00, 12.99s/it]"
     ]
    },
    {
     "name": "stdout",
     "output_type": "stream",
     "text": [
      " params: {'C': 0.5, 'max_iter': 40}\n",
      " acc_mean: 0.6722930208060206, acc_std: 0.01298025546880926\n",
      " prec_mean: 0.6486149890757782, prec_std: 0.01888484203465516\n",
      " rec_mean: 0.5389312534209085, rec_std: 0.02284683473603032\n",
      " f1_mean: 0.5884614422351592, f1_std: 0.018126956421275677\n"
     ]
    },
    {
     "name": "stderr",
     "output_type": "stream",
     "text": [
      "\n"
     ]
    }
   ],
   "source": [
    "# Define hyperparameter ranges\n",
    "param_grid = {\n",
    "    'C':[0.1,0.5],\n",
    "    'max_iter':[20,30,40]\n",
    "}\n",
    "\n",
    "# Create all combinations of hyperparameters\n",
    "grid = list(ParameterGrid(param_grid))\n",
    "\n",
    "# Initialize the result list\n",
    "results = []\n",
    "\n",
    "# 100 times 5-fold cross-validation\n",
    "rskf = RepeatedStratifiedKFold(n_splits=5, n_repeats=100, random_state=43)\n",
    "rskf.get_n_splits(X_Train, y_Train)\n",
    "\n",
    "# Open the CSV file for writing\n",
    "with open('./result/LR-100times-5-fold cv.csv', mode='w', newline='') as file:\n",
    "    writer = csv.writer(file)\n",
    "    # Write the header\n",
    "    writer.writerow(['C', 'max_iter', 'accuracy', 'precision', 'recall', 'f1'])\n",
    "    \n",
    "    # Perform a grid search\n",
    "    for params in tqdm(grid, desc=\"Hyperparameter search\"):\n",
    "        acc_scores = []\n",
    "        prec_scores = []\n",
    "        rec_scores = []\n",
    "        f1_scores = []\n",
    "        \n",
    "        for i, (train_index, test_index) in enumerate(rskf.split(X_Train, y_Train)):\n",
    "            X_train, X_test = X_Train[train_index], X_Train[test_index]\n",
    "            y_train, y_test = y_Train[train_index], y_Train[test_index]\n",
    "            clf = LogisticRegression(C=params['C'],max_iter=params['max_iter'],fit_intercept=False)\n",
    "            clf.fit(X_train, y_train)\n",
    "            y_pred = clf.predict(X_test)\n",
    "            acc_scores.append(accuracy_score(y_test, y_pred))\n",
    "            prec_scores.append(precision_score(y_test, y_pred))\n",
    "            rec_scores.append(recall_score(y_test, y_pred))\n",
    "            f1_scores.append(f1_score(y_test, y_pred))\n",
    "        \n",
    "        # Save scores for this hyperparameter combination\n",
    "        for acc, prec, rec, f1 in zip(acc_scores, prec_scores, rec_scores, f1_scores):\n",
    "            writer.writerow([params['C'], params['max_iter'], acc, prec, rec, f1])\n",
    "\n",
    "        acc_mean, acc_std = np.mean(acc_scores), np.std(acc_scores)\n",
    "        prec_mean, prec_std = np.mean(prec_scores), np.std(prec_scores)\n",
    "        rec_mean, rec_std = np.mean(rec_scores), np.std(rec_scores)\n",
    "        f1_mean, f1_std = np.mean(f1_scores), np.std(f1_scores)\n",
    "        print(f\" params: {params}\")\n",
    "        print(f\" acc_mean: {acc_mean}, acc_std: {acc_std}\")\n",
    "        print(f\" prec_mean: {prec_mean}, prec_std: {prec_std}\")\n",
    "        print(f\" rec_mean: {rec_mean}, rec_std: {rec_std}\")\n",
    "        print(f\" f1_mean: {f1_mean}, f1_std: {f1_std}\")"
   ]
  },
  {
   "cell_type": "code",
   "execution_count": null,
   "id": "d86d562d",
   "metadata": {},
   "outputs": [],
   "source": []
  },
  {
   "cell_type": "code",
   "execution_count": null,
   "id": "815eea7d",
   "metadata": {},
   "outputs": [],
   "source": []
  }
 ],
 "metadata": {
  "kernelspec": {
   "display_name": "Python 3 (ipykernel)",
   "language": "python",
   "name": "python3"
  },
  "language_info": {
   "codemirror_mode": {
    "name": "ipython",
    "version": 3
   },
   "file_extension": ".py",
   "mimetype": "text/x-python",
   "name": "python",
   "nbconvert_exporter": "python",
   "pygments_lexer": "ipython3",
   "version": "3.9.13"
  }
 },
 "nbformat": 4,
 "nbformat_minor": 5
}
