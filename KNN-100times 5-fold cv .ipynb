{
 "cells": [
  {
   "cell_type": "code",
   "execution_count": 7,
   "id": "9a49a0fe",
   "metadata": {},
   "outputs": [],
   "source": [
    "import pandas as pd\n",
    "import numpy as np\n",
    "import csv\n",
    "from tqdm import tqdm\n",
    "from sklearn.model_selection import cross_val_score, StratifiedKFold\n",
    "from sklearn.neighbors import KNeighborsClassifier\n",
    "from sklearn.preprocessing import StandardScaler\n",
    "from sklearn.metrics import make_scorer, accuracy_score, precision_score, recall_score, f1_score\n",
    "import matplotlib.pyplot as plt\n",
    "from sklearn.model_selection import StratifiedKFold, ParameterGrid\n",
    "import seaborn as sns\n",
    "from sklearn.model_selection import RepeatedStratifiedKFold\n",
    "import warnings\n",
    "warnings.filterwarnings(\"ignore\")"
   ]
  },
  {
   "cell_type": "code",
   "execution_count": 8,
   "id": "b2155d53",
   "metadata": {},
   "outputs": [],
   "source": [
    "# training dataset loading\n",
    "Training_csv_file_path = './data/TrainingSet/mRNA_sublocation_TrainingSet_NC-BERTdata.csv'\n",
    "Training_data= pd.read_csv(Training_csv_file_path)\n",
    "# separate sequence features and labels\n",
    "X_Train = Training_data.drop(columns=['label']).values\n",
    "y_Train = Training_data['label'].values\n",
    "# the training data and test data are standardized\n",
    "sc = StandardScaler()\n",
    "sc.fit(X_Train)\n",
    "X_Train = sc.transform(X_Train)"
   ]
  },
  {
   "cell_type": "code",
   "execution_count": 9,
   "id": "4b99ddc6",
   "metadata": {},
   "outputs": [],
   "source": [
    "from sklearn.decomposition import PCA\n",
    "import numpy as np\n",
    "# Initialize PCA and set the number of principal components\n",
    "pca = PCA(n_components=72)\n",
    "# Fit PCA on the training data and transform the training data to its principal components\n",
    "X_Train = pca.fit_transform(X_Train)\n"
   ]
  },
  {
   "cell_type": "code",
   "execution_count": 10,
   "id": "03a32ea7",
   "metadata": {
    "scrolled": false
   },
   "outputs": [
    {
     "name": "stderr",
     "output_type": "stream",
     "text": [
      "Hyperparameter search:   1%|▌                                                        | 1/100 [01:25<2:20:32, 85.18s/it]"
     ]
    },
    {
     "name": "stdout",
     "output_type": "stream",
     "text": [
      " params: {'n_neighbors': 1}\n",
      " acc_mean: 0.6243436397425812, acc_std: 0.014177773350633412\n",
      " prec_mean: 0.5729882964838081, prec_std: 0.017617391868208775\n",
      " rec_mean: 0.5363267895152952, rec_std: 0.023745239524925334\n",
      " f1_mean: 0.5538523732886395, f1_std: 0.01847594623271991\n"
     ]
    },
    {
     "name": "stderr",
     "output_type": "stream",
     "text": [
      "\r",
      "Hyperparameter search:   2%|█▏                                                       | 2/100 [02:46<2:15:37, 83.03s/it]"
     ]
    },
    {
     "name": "stdout",
     "output_type": "stream",
     "text": [
      " params: {'n_neighbors': 2}\n",
      " acc_mean: 0.6243436397425812, acc_std: 0.014177773350633412\n",
      " prec_mean: 0.5729882964838081, prec_std: 0.017617391868208775\n",
      " rec_mean: 0.5363267895152952, rec_std: 0.023745239524925334\n",
      " f1_mean: 0.5538523732886395, f1_std: 0.01847594623271991\n"
     ]
    },
    {
     "name": "stderr",
     "output_type": "stream",
     "text": [
      "\r",
      "Hyperparameter search:   3%|█▋                                                       | 3/100 [04:08<2:13:32, 82.61s/it]"
     ]
    },
    {
     "name": "stdout",
     "output_type": "stream",
     "text": [
      " params: {'n_neighbors': 3}\n",
      " acc_mean: 0.6454992501920519, acc_std: 0.013317878034436303\n",
      " prec_mean: 0.6072968036577818, prec_std: 0.01818574679293686\n",
      " rec_mean: 0.5243737030955422, rec_std: 0.022263549630641748\n",
      " f1_mean: 0.5625970174538006, f1_std: 0.018086865091300766\n"
     ]
    },
    {
     "name": "stderr",
     "output_type": "stream",
     "text": [
      "\r",
      "Hyperparameter search:   4%|██▎                                                      | 4/100 [05:33<2:13:14, 83.27s/it]"
     ]
    },
    {
     "name": "stdout",
     "output_type": "stream",
     "text": [
      " params: {'n_neighbors': 4}\n",
      " acc_mean: 0.6466771800781088, acc_std: 0.013973579368255546\n",
      " prec_mean: 0.6082926957014688, prec_std: 0.01913425513624998\n",
      " rec_mean: 0.5281563218390805, rec_std: 0.022974026980590635\n",
      " f1_mean: 0.5651815758048678, f1_std: 0.018676180819778294\n"
     ]
    },
    {
     "name": "stderr",
     "output_type": "stream",
     "text": [
      "\r",
      "Hyperparameter search:   5%|██▊                                                      | 5/100 [06:56<2:11:45, 83.21s/it]"
     ]
    },
    {
     "name": "stdout",
     "output_type": "stream",
     "text": [
      " params: {'n_neighbors': 5}\n",
      " acc_mean: 0.6537556293096707, acc_std: 0.013731287104986743\n",
      " prec_mean: 0.6237498133564966, prec_std: 0.020167613529409566\n",
      " rec_mean: 0.515171769141884, rec_std: 0.022237373438004776\n",
      " f1_mean: 0.5640464718993334, f1_std: 0.018437942958909534\n"
     ]
    },
    {
     "name": "stderr",
     "output_type": "stream",
     "text": [
      "\r",
      "Hyperparameter search:   6%|███▍                                                     | 6/100 [08:21<2:11:31, 83.95s/it]"
     ]
    },
    {
     "name": "stdout",
     "output_type": "stream",
     "text": [
      " params: {'n_neighbors': 6}\n",
      " acc_mean: 0.6582748506134164, acc_std: 0.013199004253712008\n",
      " prec_mean: 0.6296378738440226, prec_std: 0.019091174570343792\n",
      " rec_mean: 0.5214231101380526, rec_std: 0.022296154414377108\n",
      " f1_mean: 0.5702194597202228, f1_std: 0.018273315073648252\n"
     ]
    },
    {
     "name": "stderr",
     "output_type": "stream",
     "text": [
      "\r",
      "Hyperparameter search:   7%|███▉                                                     | 7/100 [09:45<2:10:15, 84.04s/it]"
     ]
    },
    {
     "name": "stdout",
     "output_type": "stream",
     "text": [
      " params: {'n_neighbors': 7}\n",
      " acc_mean: 0.6622861897336112, acc_std: 0.012690083026897567\n",
      " prec_mean: 0.6402158457962404, prec_std: 0.01940404989706984\n",
      " rec_mean: 0.5114332056194125, rec_std: 0.02219061554739303\n",
      " f1_mean: 0.5683607560618114, f1_std: 0.017937710898914362\n"
     ]
    },
    {
     "name": "stderr",
     "output_type": "stream",
     "text": [
      "\r",
      "Hyperparameter search:   8%|████▌                                                    | 8/100 [11:13<2:10:50, 85.33s/it]"
     ]
    },
    {
     "name": "stdout",
     "output_type": "stream",
     "text": [
      " params: {'n_neighbors': 8}\n",
      " acc_mean: 0.6650854390056534, acc_std: 0.01277643527445035\n",
      " prec_mean: 0.6433660011431197, prec_std: 0.01913934843145383\n",
      " rec_mean: 0.5169661862190598, rec_std: 0.022713014601407566\n",
      " f1_mean: 0.5730251629766339, f1_std: 0.018315221167605037\n"
     ]
    },
    {
     "name": "stderr",
     "output_type": "stream",
     "text": [
      "\r",
      "Hyperparameter search:   9%|█████▏                                                   | 9/100 [12:48<2:13:40, 88.14s/it]"
     ]
    },
    {
     "name": "stdout",
     "output_type": "stream",
     "text": [
      " params: {'n_neighbors': 9}\n",
      " acc_mean: 0.6682557489109384, acc_std: 0.013109605311531412\n",
      " prec_mean: 0.651389351067386, prec_std: 0.02007942844519426\n",
      " rec_mean: 0.5113160615459466, rec_std: 0.02197682028053531\n",
      " f1_mean: 0.5726843732216303, f1_std: 0.01858264633552203\n"
     ]
    },
    {
     "name": "stderr",
     "output_type": "stream",
     "text": [
      "\r",
      "Hyperparameter search:  10%|█████▌                                                  | 10/100 [14:13<2:10:52, 87.25s/it]"
     ]
    },
    {
     "name": "stdout",
     "output_type": "stream",
     "text": [
      " params: {'n_neighbors': 10}\n",
      " acc_mean: 0.6705121372286547, acc_std: 0.012735729945323621\n",
      " prec_mean: 0.6541087444533978, prec_std: 0.01942185621093444\n",
      " rec_mean: 0.5153783129599221, rec_std: 0.021872449924724233\n",
      " f1_mean: 0.5762833050970078, f1_std: 0.018194369176337405\n"
     ]
    },
    {
     "name": "stderr",
     "output_type": "stream",
     "text": [
      "\r",
      "Hyperparameter search:  11%|██████▏                                                 | 11/100 [15:39<2:08:55, 86.91s/it]"
     ]
    },
    {
     "name": "stdout",
     "output_type": "stream",
     "text": [
      " params: {'n_neighbors': 11}\n",
      " acc_mean: 0.6717029426511922, acc_std: 0.01242551383990531\n",
      " prec_mean: 0.6587973054993205, prec_std: 0.01979992334914426\n",
      " rec_mean: 0.5095951590342395, rec_std: 0.021307397174031517\n",
      " f1_mean: 0.5744180752896961, f1_std: 0.01767360711584598\n"
     ]
    },
    {
     "name": "stderr",
     "output_type": "stream",
     "text": [
      "\r",
      "Hyperparameter search:  12%|██████▋                                                 | 12/100 [17:07<2:07:44, 87.10s/it]"
     ]
    },
    {
     "name": "stdout",
     "output_type": "stream",
     "text": [
      " params: {'n_neighbors': 12}\n",
      " acc_mean: 0.6733501787118943, acc_std: 0.012405832080211123\n",
      " prec_mean: 0.6607597309984101, prec_std: 0.019564388838436784\n",
      " rec_mean: 0.5125929453262786, rec_std: 0.021610411798123463\n",
      " f1_mean: 0.5770716518692826, f1_std: 0.017835011471700052\n"
     ]
    },
    {
     "name": "stderr",
     "output_type": "stream",
     "text": [
      "\r",
      "Hyperparameter search:  13%|███████▎                                                | 13/100 [18:33<2:05:50, 86.79s/it]"
     ]
    },
    {
     "name": "stdout",
     "output_type": "stream",
     "text": [
      " params: {'n_neighbors': 13}\n",
      " acc_mean: 0.6724707850903219, acc_std: 0.01202784629780442\n",
      " prec_mean: 0.662291910318344, prec_std: 0.01942648802110317\n",
      " rec_mean: 0.5048411238825032, rec_std: 0.02181877814897246\n",
      " f1_mean: 0.5726747589950092, f1_std: 0.01776742110506836\n"
     ]
    },
    {
     "name": "stderr",
     "output_type": "stream",
     "text": [
      "\r",
      "Hyperparameter search:  14%|███████▊                                                | 14/100 [20:04<2:06:16, 88.10s/it]"
     ]
    },
    {
     "name": "stdout",
     "output_type": "stream",
     "text": [
      " params: {'n_neighbors': 14}\n",
      " acc_mean: 0.6746780908877633, acc_std: 0.01267632611041981\n",
      " prec_mean: 0.6650333869996484, prec_std: 0.020059194820810873\n",
      " rec_mean: 0.5086631028401143, rec_std: 0.022473380441206135\n",
      " f1_mean: 0.5761671415937674, f1_std: 0.01864707519088743\n"
     ]
    },
    {
     "name": "stderr",
     "output_type": "stream",
     "text": [
      "\r",
      "Hyperparameter search:  15%|████████▍                                               | 15/100 [21:31<2:04:11, 87.67s/it]"
     ]
    },
    {
     "name": "stdout",
     "output_type": "stream",
     "text": [
      " params: {'n_neighbors': 15}\n",
      " acc_mean: 0.6745366140881093, acc_std: 0.01210863229468556\n",
      " prec_mean: 0.6676780578939615, prec_std: 0.019563716096208418\n",
      " rec_mean: 0.5019963753572949, rec_std: 0.022510734600317755\n",
      " f1_mean: 0.5728207037168779, f1_std: 0.018368400794986094\n"
     ]
    },
    {
     "name": "stderr",
     "output_type": "stream",
     "text": [
      "\r",
      "Hyperparameter search:  16%|████████▉                                               | 16/100 [23:16<2:10:10, 92.99s/it]"
     ]
    },
    {
     "name": "stdout",
     "output_type": "stream",
     "text": [
      " params: {'n_neighbors': 16}\n",
      " acc_mean: 0.6764090754361995, acc_std: 0.012332418320799404\n",
      " prec_mean: 0.669853761727217, prec_std: 0.019972722359370393\n",
      " rec_mean: 0.5057092379736058, rec_std: 0.022431007976097955\n",
      " f1_mean: 0.5760407121670946, f1_std: 0.01841482608195484\n"
     ]
    },
    {
     "name": "stderr",
     "output_type": "stream",
     "text": [
      "\r",
      "Hyperparameter search:  17%|█████████▎                                             | 17/100 [25:37<2:28:30, 107.36s/it]"
     ]
    },
    {
     "name": "stdout",
     "output_type": "stream",
     "text": [
      " params: {'n_neighbors': 17}\n",
      " acc_mean: 0.6760272828891986, acc_std: 0.012484562696687837\n",
      " prec_mean: 0.6714518996170612, prec_std: 0.020312079107829825\n",
      " rec_mean: 0.5004579577935899, rec_std: 0.022775164073643352\n",
      " f1_mean: 0.5731916041083912, f1_std: 0.018847647132806355\n"
     ]
    },
    {
     "name": "stderr",
     "output_type": "stream",
     "text": [
      "\r",
      "Hyperparameter search:  18%|█████████▉                                             | 18/100 [27:57<2:40:10, 117.20s/it]"
     ]
    },
    {
     "name": "stdout",
     "output_type": "stream",
     "text": [
      " params: {'n_neighbors': 18}\n",
      " acc_mean: 0.6779703825860554, acc_std: 0.01241688715534263\n",
      " prec_mean: 0.6737412125143737, prec_std: 0.020354600837449374\n",
      " rec_mean: 0.5042497232865049, rec_std: 0.022445618190579653\n",
      " f1_mean: 0.5765161975697563, f1_std: 0.01854335423493289\n"
     ]
    },
    {
     "name": "stderr",
     "output_type": "stream",
     "text": [
      "\r",
      "Hyperparameter search:  19%|██████████▍                                            | 19/100 [30:15<2:46:43, 123.50s/it]"
     ]
    },
    {
     "name": "stdout",
     "output_type": "stream",
     "text": [
      " params: {'n_neighbors': 19}\n",
      " acc_mean: 0.677852451135982, acc_std: 0.012648358889512022\n",
      " prec_mean: 0.6752420604208167, prec_std: 0.02083577595003028\n",
      " rec_mean: 0.5005610411725354, rec_std: 0.023434273590772978\n",
      " f1_mean: 0.574609134373402, f1_std: 0.01922459518451007\n"
     ]
    },
    {
     "name": "stderr",
     "output_type": "stream",
     "text": [
      "\r",
      "Hyperparameter search:  20%|███████████                                            | 20/100 [32:39<2:52:49, 129.62s/it]"
     ]
    },
    {
     "name": "stdout",
     "output_type": "stream",
     "text": [
      " params: {'n_neighbors': 20}\n",
      " acc_mean: 0.6790946069028332, acc_std: 0.012704137547702245\n",
      " prec_mean: 0.6766300172992751, prec_std: 0.02101416137530747\n",
      " rec_mean: 0.5031354983883719, rec_std: 0.02278337003282218\n",
      " f1_mean: 0.5768264755789244, f1_std: 0.018898356691971013\n"
     ]
    },
    {
     "name": "stderr",
     "output_type": "stream",
     "text": [
      "\r",
      "Hyperparameter search:  21%|███████████▌                                           | 21/100 [34:53<2:52:39, 131.14s/it]"
     ]
    },
    {
     "name": "stdout",
     "output_type": "stream",
     "text": [
      " params: {'n_neighbors': 21}\n",
      " acc_mean: 0.6782815643845824, acc_std: 0.012552461319145202\n",
      " prec_mean: 0.6767204483419946, prec_std: 0.020607795606707717\n",
      " rec_mean: 0.4992838289849784, rec_std: 0.02337768175212548\n",
      " f1_mean: 0.5743078888988751, f1_std: 0.01927189879680493\n"
     ]
    },
    {
     "name": "stderr",
     "output_type": "stream",
     "text": [
      "\r",
      "Hyperparameter search:  22%|████████████                                           | 22/100 [37:10<2:52:26, 132.65s/it]"
     ]
    },
    {
     "name": "stdout",
     "output_type": "stream",
     "text": [
      " params: {'n_neighbors': 22}\n",
      " acc_mean: 0.6790579537143094, acc_std: 0.012988921239854968\n",
      " prec_mean: 0.6777595508605355, prec_std: 0.021409432725094574\n",
      " rec_mean: 0.5005855622453325, rec_std: 0.023370489596531825\n",
      " f1_mean: 0.5755454083046929, f1_std: 0.019509415969832758\n"
     ]
    },
    {
     "name": "stderr",
     "output_type": "stream",
     "text": [
      "\r",
      "Hyperparameter search:  23%|████████████▋                                          | 23/100 [39:35<2:55:01, 136.38s/it]"
     ]
    },
    {
     "name": "stdout",
     "output_type": "stream",
     "text": [
      " params: {'n_neighbors': 23}\n",
      " acc_mean: 0.678423080284651, acc_std: 0.012593693318607546\n",
      " prec_mean: 0.6784386283774269, prec_std: 0.02108094152606949\n",
      " rec_mean: 0.49640389223377734, rec_std: 0.02270991322235599\n",
      " f1_mean: 0.5730192242319531, f1_std: 0.019015051190838437\n"
     ]
    },
    {
     "name": "stderr",
     "output_type": "stream",
     "text": [
      "\r",
      "Hyperparameter search:  24%|█████████████▏                                         | 24/100 [42:04<2:57:43, 140.31s/it]"
     ]
    },
    {
     "name": "stdout",
     "output_type": "stream",
     "text": [
      " params: {'n_neighbors': 24}\n",
      " acc_mean: 0.6790837553878071, acc_std: 0.012991228693506184\n",
      " prec_mean: 0.6792838115791648, prec_std: 0.021428288813829018\n",
      " rec_mean: 0.49751845770236575, rec_std: 0.023705756445831797\n",
      " f1_mean: 0.5740504689989668, f1_std: 0.019837289375902994\n"
     ]
    },
    {
     "name": "stderr",
     "output_type": "stream",
     "text": [
      "\r",
      "Hyperparameter search:  25%|█████████████▊                                         | 25/100 [44:28<2:56:38, 141.31s/it]"
     ]
    },
    {
     "name": "stdout",
     "output_type": "stream",
     "text": [
      " params: {'n_neighbors': 25}\n",
      " acc_mean: 0.6790967183252141, acc_std: 0.013273148894771858\n",
      " prec_mean: 0.6807625348386975, prec_std: 0.021759057664620447\n",
      " rec_mean: 0.4944907255367026, rec_std: 0.023629359064977443\n",
      " f1_mean: 0.5725723940404691, f1_std: 0.020218994701458083\n"
     ]
    },
    {
     "name": "stderr",
     "output_type": "stream",
     "text": [
      "\r",
      "Hyperparameter search:  26%|██████████████▎                                        | 26/100 [46:53<2:55:39, 142.43s/it]"
     ]
    },
    {
     "name": "stdout",
     "output_type": "stream",
     "text": [
      " params: {'n_neighbors': 26}\n",
      " acc_mean: 0.6793260882565355, acc_std: 0.013021719044362636\n",
      " prec_mean: 0.6811000636048445, prec_std: 0.021507225493445227\n",
      " rec_mean: 0.49484107522958093, rec_std: 0.02334779232571041\n",
      " f1_mean: 0.5729240637282341, f1_std: 0.019841826362808745\n"
     ]
    },
    {
     "name": "stderr",
     "output_type": "stream",
     "text": [
      "\r",
      "Hyperparameter search:  27%|██████████████▊                                        | 27/100 [49:14<2:52:37, 141.88s/it]"
     ]
    },
    {
     "name": "stdout",
     "output_type": "stream",
     "text": [
      " params: {'n_neighbors': 27}\n",
      " acc_mean: 0.6800577674123347, acc_std: 0.012904922238318278\n",
      " prec_mean: 0.6837299898473796, prec_std: 0.02137949639454259\n",
      " rec_mean: 0.4927407650672018, rec_std: 0.02348035083631202\n",
      " f1_mean: 0.5724344920582429, f1_std: 0.019910739644105398\n"
     ]
    },
    {
     "name": "stderr",
     "output_type": "stream",
     "text": [
      "\r",
      "Hyperparameter search:  28%|███████████████▍                                       | 28/100 [51:34<2:49:46, 141.48s/it]"
     ]
    },
    {
     "name": "stdout",
     "output_type": "stream",
     "text": [
      " params: {'n_neighbors': 28}\n",
      " acc_mean: 0.680557420108653, acc_std: 0.013171314761131432\n",
      " prec_mean: 0.6840370981645388, prec_std: 0.021873204868565983\n",
      " rec_mean: 0.4943042388858481, rec_std: 0.023202938543968245\n",
      " f1_mean: 0.5736062705661337, f1_std: 0.019951230543887352\n"
     ]
    },
    {
     "name": "stderr",
     "output_type": "stream",
     "text": [
      "\r",
      "Hyperparameter search:  29%|███████████████▉                                       | 29/100 [53:56<2:47:45, 141.77s/it]"
     ]
    },
    {
     "name": "stdout",
     "output_type": "stream",
     "text": [
      " params: {'n_neighbors': 29}\n",
      " acc_mean: 0.680825540850733, acc_std: 0.01318009538144159\n",
      " prec_mean: 0.6862409703096071, prec_std: 0.02187226561099626\n",
      " rec_mean: 0.49113822295201603, rec_std: 0.02381455350718684\n",
      " f1_mean: 0.5722198778859124, f1_std: 0.0203475353663619\n"
     ]
    },
    {
     "name": "stderr",
     "output_type": "stream",
     "text": [
      "\r",
      "Hyperparameter search:  30%|████████████████▌                                      | 30/100 [56:16<2:44:40, 141.15s/it]"
     ]
    },
    {
     "name": "stdout",
     "output_type": "stream",
     "text": [
      " params: {'n_neighbors': 30}\n",
      " acc_mean: 0.6808450818578677, acc_std: 0.01307503416589514\n",
      " prec_mean: 0.6858104024710922, prec_std: 0.021685969019213634\n",
      " rec_mean: 0.49205558596363186, rec_std: 0.023769516046841344\n",
      " f1_mean: 0.5726908324634257, f1_std: 0.02022825815733654\n"
     ]
    },
    {
     "name": "stderr",
     "output_type": "stream",
     "text": [
      "\r",
      "Hyperparameter search:  31%|█████████████████                                      | 31/100 [58:39<2:42:55, 141.67s/it]"
     ]
    },
    {
     "name": "stdout",
     "output_type": "stream",
     "text": [
      " params: {'n_neighbors': 31}\n",
      " acc_mean: 0.6808041368238503, acc_std: 0.013037410583490835\n",
      " prec_mean: 0.6876137706421376, prec_std: 0.021865426788162112\n",
      " rec_mean: 0.4884550994344098, rec_std: 0.02374288491094869\n",
      " f1_mean: 0.5708592217423593, f1_std: 0.02026780897351319\n"
     ]
    },
    {
     "name": "stderr",
     "output_type": "stream",
     "text": [
      "\r",
      "Hyperparameter search:  32%|████████████████▉                                    | 32/100 [1:01:00<2:40:17, 141.43s/it]"
     ]
    },
    {
     "name": "stdout",
     "output_type": "stream",
     "text": [
      " params: {'n_neighbors': 32}\n",
      " acc_mean: 0.681106672830732, acc_std: 0.013005223967851955\n",
      " prec_mean: 0.6875677090741658, prec_std: 0.0219955001167258\n",
      " rec_mean: 0.4898513774858603, rec_std: 0.02342857753152641\n",
      " f1_mean: 0.5718004812839167, f1_std: 0.020038307592068892\n"
     ]
    },
    {
     "name": "stderr",
     "output_type": "stream",
     "text": [
      "\r",
      "Hyperparameter search:  33%|█████████████████▍                                   | 33/100 [1:03:23<2:38:24, 141.86s/it]"
     ]
    },
    {
     "name": "stdout",
     "output_type": "stream",
     "text": [
      " params: {'n_neighbors': 33}\n",
      " acc_mean: 0.6809285083421883, acc_std: 0.012377185343365944\n",
      " prec_mean: 0.6893100404581063, prec_std: 0.021120098443339282\n",
      " rec_mean: 0.4857972632731254, rec_std: 0.02307992691822706\n",
      " f1_mean: 0.5696214307044923, f1_std: 0.019527431816760553\n"
     ]
    },
    {
     "name": "stderr",
     "output_type": "stream",
     "text": [
      "\r",
      "Hyperparameter search:  34%|██████████████████                                   | 34/100 [1:05:46<2:36:26, 142.22s/it]"
     ]
    },
    {
     "name": "stdout",
     "output_type": "stream",
     "text": [
      " params: {'n_neighbors': 34}\n",
      " acc_mean: 0.6812073586980022, acc_std: 0.01257867425586801\n",
      " prec_mean: 0.6890682256752557, prec_std: 0.02145704367475652\n",
      " rec_mean: 0.4874299702000851, rec_std: 0.02279172090809883\n",
      " f1_mean: 0.5706714980898243, f1_std: 0.019489410328117667\n"
     ]
    },
    {
     "name": "stderr",
     "output_type": "stream",
     "text": [
      "\r",
      "Hyperparameter search:  35%|██████████████████▌                                  | 35/100 [1:08:14<2:35:52, 143.88s/it]"
     ]
    },
    {
     "name": "stdout",
     "output_type": "stream",
     "text": [
      " params: {'n_neighbors': 35}\n",
      " acc_mean: 0.6814583465584736, acc_std: 0.012372887533144946\n",
      " prec_mean: 0.6911851697277256, prec_std: 0.021453166973651384\n",
      " rec_mean: 0.48458428510612417, rec_std: 0.022680003655357737\n",
      " f1_mean: 0.569426595946916, f1_std: 0.01934991245790363\n"
     ]
    },
    {
     "name": "stderr",
     "output_type": "stream",
     "text": [
      "\r",
      "Hyperparameter search:  36%|███████████████████                                  | 36/100 [1:10:35<2:32:45, 143.21s/it]"
     ]
    },
    {
     "name": "stdout",
     "output_type": "stream",
     "text": [
      " params: {'n_neighbors': 36}\n",
      " acc_mean: 0.6813318636177543, acc_std: 0.012625936770937558\n",
      " prec_mean: 0.6903910530438309, prec_std: 0.02196421215256357\n",
      " rec_mean: 0.48557617223134464, rec_std: 0.02280757863270911\n",
      " f1_mean: 0.5698337115999231, f1_std: 0.01950035412897103\n"
     ]
    },
    {
     "name": "stderr",
     "output_type": "stream",
     "text": [
      "\r",
      "Hyperparameter search:  37%|███████████████████▌                                 | 37/100 [1:13:01<2:31:01, 143.83s/it]"
     ]
    },
    {
     "name": "stdout",
     "output_type": "stream",
     "text": [
      " params: {'n_neighbors': 37}\n",
      " acc_mean: 0.6816687274885114, acc_std: 0.012307127421907935\n",
      " prec_mean: 0.6927850403120103, prec_std: 0.02167021918700608\n",
      " rec_mean: 0.48261300249346234, rec_std: 0.022913139900265205\n",
      " f1_mean: 0.5685802107394673, f1_std: 0.019400608777684417\n"
     ]
    },
    {
     "name": "stderr",
     "output_type": "stream",
     "text": [
      "\r",
      "Hyperparameter search:  38%|████████████████████▏                                | 38/100 [1:15:26<2:29:01, 144.21s/it]"
     ]
    },
    {
     "name": "stdout",
     "output_type": "stream",
     "text": [
      " params: {'n_neighbors': 38}\n",
      " acc_mean: 0.6818468045761286, acc_std: 0.012875953770762212\n",
      " prec_mean: 0.6921896193783332, prec_std: 0.02236474896286792\n",
      " rec_mean: 0.48440805205862675, rec_std: 0.023532971193649468\n",
      " f1_mean: 0.5696227368990823, f1_std: 0.020125456283230023\n"
     ]
    },
    {
     "name": "stderr",
     "output_type": "stream",
     "text": [
      "\r",
      "Hyperparameter search:  39%|████████████████████▋                                | 39/100 [1:17:52<2:27:19, 144.91s/it]"
     ]
    },
    {
     "name": "stdout",
     "output_type": "stream",
     "text": [
      " params: {'n_neighbors': 39}\n",
      " acc_mean: 0.6819605683820248, acc_std: 0.012352959828862746\n",
      " prec_mean: 0.6942234736893017, prec_std: 0.021894452136736138\n",
      " rec_mean: 0.4812519978106185, rec_std: 0.023285825602596486\n",
      " f1_mean: 0.5681020098429836, f1_std: 0.019636441413364115\n"
     ]
    },
    {
     "name": "stderr",
     "output_type": "stream",
     "text": [
      "\r",
      "Hyperparameter search:  40%|█████████████████████▏                               | 40/100 [1:20:19<2:25:21, 145.36s/it]"
     ]
    },
    {
     "name": "stdout",
     "output_type": "stream",
     "text": [
      " params: {'n_neighbors': 40}\n",
      " acc_mean: 0.6818896287300645, acc_std: 0.01263984257990489\n",
      " prec_mean: 0.6933801581393286, prec_std: 0.02218605021776111\n",
      " rec_mean: 0.48245534269902085, rec_std: 0.023388617368821675\n",
      " f1_mean: 0.5686629828877715, f1_std: 0.01991541958946617\n"
     ]
    },
    {
     "name": "stderr",
     "output_type": "stream",
     "text": [
      "\r",
      "Hyperparameter search:  41%|█████████████████████▋                               | 41/100 [1:22:47<2:23:41, 146.12s/it]"
     ]
    },
    {
     "name": "stdout",
     "output_type": "stream",
     "text": [
      " params: {'n_neighbors': 41}\n",
      " acc_mean: 0.6820140669491097, acc_std: 0.012484498233527918\n",
      " prec_mean: 0.6953054621778006, prec_std: 0.022463400879055035\n",
      " rec_mean: 0.47962491029617466, rec_std: 0.02341429271499604\n",
      " f1_mean: 0.5673105484556648, f1_std: 0.019777274872749412\n"
     ]
    },
    {
     "name": "stderr",
     "output_type": "stream",
     "text": [
      "\r",
      "Hyperparameter search:  42%|██████████████████████▎                              | 42/100 [1:25:12<2:21:10, 146.04s/it]"
     ]
    },
    {
     "name": "stdout",
     "output_type": "stream",
     "text": [
      " params: {'n_neighbors': 42}\n",
      " acc_mean: 0.6822584767398534, acc_std: 0.012756883241310649\n",
      " prec_mean: 0.6949501245583782, prec_std: 0.022833950948644318\n",
      " rec_mean: 0.4812427172657058, rec_std: 0.023175592752904414\n",
      " f1_mean: 0.5683394529756465, f1_std: 0.01985840015325256\n"
     ]
    },
    {
     "name": "stderr",
     "output_type": "stream",
     "text": [
      "\r",
      "Hyperparameter search:  43%|██████████████████████▊                              | 43/100 [1:27:42<2:19:37, 146.97s/it]"
     ]
    },
    {
     "name": "stdout",
     "output_type": "stream",
     "text": [
      " params: {'n_neighbors': 43}\n",
      " acc_mean: 0.6822284223212767, acc_std: 0.012426875071075453\n",
      " prec_mean: 0.6961197753905912, prec_std: 0.022243530132134377\n",
      " rec_mean: 0.47901385391960105, rec_std: 0.023201669302124233\n",
      " f1_mean: 0.5671669154404518, f1_std: 0.01972937583272989\n"
     ]
    },
    {
     "name": "stderr",
     "output_type": "stream",
     "text": [
      "\r",
      "Hyperparameter search:  44%|███████████████████████▎                             | 44/100 [1:30:12<2:18:01, 147.89s/it]"
     ]
    },
    {
     "name": "stdout",
     "output_type": "stream",
     "text": [
      " params: {'n_neighbors': 44}\n",
      " acc_mean: 0.6823530008418089, acc_std: 0.012842581914585548\n",
      " prec_mean: 0.6958438497795365, prec_std: 0.022723998527188097\n",
      " rec_mean: 0.4799952685033145, rec_std: 0.023782376716716166\n",
      " f1_mean: 0.5677578677168743, f1_std: 0.02030572476668019\n"
     ]
    },
    {
     "name": "stderr",
     "output_type": "stream",
     "text": [
      "\r",
      "Hyperparameter search:  45%|███████████████████████▊                             | 45/100 [1:32:39<2:15:34, 147.90s/it]"
     ]
    },
    {
     "name": "stdout",
     "output_type": "stream",
     "text": [
      " params: {'n_neighbors': 45}\n",
      " acc_mean: 0.6821039588019633, acc_std: 0.012471941821425825\n",
      " prec_mean: 0.6967314674489542, prec_std: 0.02235529522723098\n",
      " rec_mean: 0.4774356869184455, rec_std: 0.023180812200534855\n",
      " f1_mean: 0.5662612754654738, f1_std: 0.01977626861397518\n"
     ]
    },
    {
     "name": "stderr",
     "output_type": "stream",
     "text": [
      "\r",
      "Hyperparameter search:  46%|████████████████████████▍                            | 46/100 [1:35:07<2:13:03, 147.85s/it]"
     ]
    },
    {
     "name": "stdout",
     "output_type": "stream",
     "text": [
      " params: {'n_neighbors': 46}\n",
      " acc_mean: 0.6821789740971255, acc_std: 0.012649369623207408\n",
      " prec_mean: 0.6964522619608808, prec_std: 0.022743098309389396\n",
      " rec_mean: 0.47826852764094147, rec_std: 0.023477389372496153\n",
      " f1_mean: 0.5667432327472117, f1_std: 0.01999542785787151\n"
     ]
    },
    {
     "name": "stderr",
     "output_type": "stream",
     "text": [
      "\r",
      "Hyperparameter search:  47%|████████████████████████▉                            | 47/100 [1:37:36<2:10:56, 148.23s/it]"
     ]
    },
    {
     "name": "stdout",
     "output_type": "stream",
     "text": [
      " params: {'n_neighbors': 47}\n",
      " acc_mean: 0.6820954303115614, acc_std: 0.01228630657652921\n",
      " prec_mean: 0.6976491500123478, prec_std: 0.022603224861878456\n",
      " rec_mean: 0.4759121449857082, rec_std: 0.02295715130618138\n",
      " f1_mean: 0.5654729197407768, f1_std: 0.019420027698445495\n"
     ]
    },
    {
     "name": "stderr",
     "output_type": "stream",
     "text": [
      "\r",
      "Hyperparameter search:  48%|█████████████████████████▍                           | 48/100 [1:40:05<2:08:30, 148.28s/it]"
     ]
    },
    {
     "name": "stdout",
     "output_type": "stream",
     "text": [
      " params: {'n_neighbors': 48}\n",
      " acc_mean: 0.6824664978448771, acc_std: 0.01227120749570824\n",
      " prec_mean: 0.6980453988920319, prec_std: 0.02234163945193994\n",
      " rec_mean: 0.47666594903606396, rec_std: 0.022877768696906588\n",
      " f1_mean: 0.5661496880911603, f1_std: 0.0194761518297969\n"
     ]
    },
    {
     "name": "stderr",
     "output_type": "stream",
     "text": [
      "\r",
      "Hyperparameter search:  49%|█████████████████████████▉                           | 49/100 [1:42:35<2:06:27, 148.78s/it]"
     ]
    },
    {
     "name": "stdout",
     "output_type": "stream",
     "text": [
      " params: {'n_neighbors': 49}\n",
      " acc_mean: 0.6821639664380443, acc_std: 0.012212627639911999\n",
      " prec_mean: 0.6987394161538888, prec_std: 0.022655864240532016\n",
      " rec_mean: 0.4743190901903545, rec_std: 0.022922318306107314\n",
      " f1_mean: 0.5647004198114104, f1_std: 0.01941056624130351\n"
     ]
    },
    {
     "name": "stderr",
     "output_type": "stream",
     "text": [
      "\r",
      "Hyperparameter search:  50%|██████████████████████████▌                          | 50/100 [1:45:04<2:04:11, 149.03s/it]"
     ]
    },
    {
     "name": "stdout",
     "output_type": "stream",
     "text": [
      " params: {'n_neighbors': 50}\n",
      " acc_mean: 0.6820759951055482, acc_std: 0.01222684550127092\n",
      " prec_mean: 0.6984678143621366, prec_std: 0.02266255934640505\n",
      " rec_mean: 0.4744076871617101, rec_std: 0.02270576497560229\n",
      " f1_mean: 0.5646844739404403, f1_std: 0.01936282746373333\n"
     ]
    },
    {
     "name": "stderr",
     "output_type": "stream",
     "text": [
      "\r",
      "Hyperparameter search:  51%|███████████████████████████                          | 51/100 [1:47:30<2:00:59, 148.15s/it]"
     ]
    },
    {
     "name": "stdout",
     "output_type": "stream",
     "text": [
      " params: {'n_neighbors': 51}\n",
      " acc_mean: 0.6818872896052699, acc_std: 0.012159092502889771\n",
      " prec_mean: 0.6993633407361933, prec_std: 0.022736877035575212\n",
      " rec_mean: 0.47213441586085264, rec_std: 0.022640840650759494\n",
      " f1_mean: 0.5633565336586878, f1_std: 0.019330047175063165\n"
     ]
    },
    {
     "name": "stderr",
     "output_type": "stream",
     "text": [
      "\r",
      "Hyperparameter search:  52%|███████████████████████████▌                         | 52/100 [1:49:56<1:57:56, 147.43s/it]"
     ]
    },
    {
     "name": "stdout",
     "output_type": "stream",
     "text": [
      " params: {'n_neighbors': 52}\n",
      " acc_mean: 0.6818722589459448, acc_std: 0.01234752996293414\n",
      " prec_mean: 0.6990346049547743, prec_std: 0.022918757784320454\n",
      " rec_mean: 0.47261257678039287, rec_std: 0.022705338811711342\n",
      " f1_mean: 0.5635955025666752, f1_std: 0.019546962707934053\n"
     ]
    },
    {
     "name": "stderr",
     "output_type": "stream",
     "text": [
      "\r",
      "Hyperparameter search:  53%|████████████████████████████                         | 53/100 [1:52:22<1:55:05, 146.92s/it]"
     ]
    },
    {
     "name": "stdout",
     "output_type": "stream",
     "text": [
      " params: {'n_neighbors': 53}\n",
      " acc_mean: 0.6817350003910041, acc_std: 0.012340906157631839\n",
      " prec_mean: 0.6997133799678138, prec_std: 0.02276931749530299\n",
      " rec_mean: 0.4708675789089582, rec_std: 0.022730578888437408\n",
      " f1_mean: 0.5625772238665364, f1_std: 0.01962918177030588\n"
     ]
    },
    {
     "name": "stderr",
     "output_type": "stream",
     "text": [
      "\r",
      "Hyperparameter search:  54%|████████████████████████████▌                        | 54/100 [1:54:49<1:52:38, 146.92s/it]"
     ]
    },
    {
     "name": "stdout",
     "output_type": "stream",
     "text": [
      " params: {'n_neighbors': 54}\n",
      " acc_mean: 0.681582731876958, acc_std: 0.012437828599967303\n",
      " prec_mean: 0.6993541428057701, prec_std: 0.02297140843469733\n",
      " rec_mean: 0.47086715319588884, rec_std: 0.02294720319108737\n",
      " f1_mean: 0.5624549516270311, f1_std: 0.01981482413293586\n"
     ]
    },
    {
     "name": "stderr",
     "output_type": "stream",
     "text": [
      "\r",
      "Hyperparameter search:  55%|█████████████████████████████▏                       | 55/100 [1:57:16<1:50:17, 147.05s/it]"
     ]
    },
    {
     "name": "stdout",
     "output_type": "stream",
     "text": [
      " params: {'n_neighbors': 55}\n",
      " acc_mean: 0.6817652112112389, acc_std: 0.01227847676469881\n",
      " prec_mean: 0.7004388418836041, prec_std: 0.022870113417140698\n",
      " rec_mean: 0.46981228486285953, rec_std: 0.022885727881830954\n",
      " f1_mean: 0.5620418630180684, f1_std: 0.019641580602275693\n"
     ]
    },
    {
     "name": "stderr",
     "output_type": "stream",
     "text": [
      "\r",
      "Hyperparameter search:  56%|█████████████████████████████▋                       | 56/100 [1:59:44<1:48:04, 147.38s/it]"
     ]
    },
    {
     "name": "stdout",
     "output_type": "stream",
     "text": [
      " params: {'n_neighbors': 56}\n",
      " acc_mean: 0.6820031234331084, acc_std: 0.012423160724482315\n",
      " prec_mean: 0.7005376860789866, prec_std: 0.022979082494417755\n",
      " rec_mean: 0.47058203490847167, rec_std: 0.02316817435867495\n",
      " f1_mean: 0.562623326979733, f1_std: 0.019931161090221607\n"
     ]
    },
    {
     "name": "stderr",
     "output_type": "stream",
     "text": [
      "\r",
      "Hyperparameter search:  57%|██████████████████████████████▏                      | 57/100 [2:02:12<1:45:42, 147.51s/it]"
     ]
    },
    {
     "name": "stdout",
     "output_type": "stream",
     "text": [
      " params: {'n_neighbors': 57}\n",
      " acc_mean: 0.6821256204315767, acc_std: 0.012319794725283016\n",
      " prec_mean: 0.7015256119735733, prec_std: 0.022849037388681416\n",
      " rec_mean: 0.4694278173082771, rec_std: 0.02300547557241994\n",
      " f1_mean: 0.5621157252278656, f1_std: 0.019781243865093393\n"
     ]
    },
    {
     "name": "stderr",
     "output_type": "stream",
     "text": [
      "\r",
      "Hyperparameter search:  58%|██████████████████████████████▋                      | 58/100 [2:04:42<1:43:40, 148.12s/it]"
     ]
    },
    {
     "name": "stdout",
     "output_type": "stream",
     "text": [
      " params: {'n_neighbors': 58}\n",
      " acc_mean: 0.6821512726034896, acc_std: 0.012375413871436652\n",
      " prec_mean: 0.7013787777764424, prec_std: 0.02284321925767708\n",
      " rec_mean: 0.46975335401082524, rec_std: 0.02326265037592097\n",
      " f1_mean: 0.5622999373063999, f1_std: 0.019961637567247198\n"
     ]
    },
    {
     "name": "stderr",
     "output_type": "stream",
     "text": [
      "\r",
      "Hyperparameter search:  59%|███████████████████████████████▎                     | 59/100 [2:07:10<1:41:12, 148.11s/it]"
     ]
    },
    {
     "name": "stdout",
     "output_type": "stream",
     "text": [
      " params: {'n_neighbors': 59}\n",
      " acc_mean: 0.6819711622943203, acc_std: 0.012286257440391584\n",
      " prec_mean: 0.7018292107562988, prec_std: 0.022826466685092164\n",
      " rec_mean: 0.46827918263090673, rec_std: 0.023101749669680673\n",
      " f1_mean: 0.5613884830891207, f1_std: 0.01988600442855916\n"
     ]
    },
    {
     "name": "stderr",
     "output_type": "stream",
     "text": [
      "\r",
      "Hyperparameter search:  60%|███████████████████████████████▊                     | 60/100 [2:09:38<1:38:44, 148.11s/it]"
     ]
    },
    {
     "name": "stdout",
     "output_type": "stream",
     "text": [
      " params: {'n_neighbors': 60}\n",
      " acc_mean: 0.6819131027788894, acc_std: 0.012226528745059964\n",
      " prec_mean: 0.701474859675643, prec_std: 0.02285106275057556\n",
      " rec_mean: 0.46866815058079425, rec_std: 0.02330345959809454\n",
      " f1_mean: 0.5615412887239075, f1_std: 0.019893445815511786\n"
     ]
    },
    {
     "name": "stderr",
     "output_type": "stream",
     "text": [
      "\r",
      "Hyperparameter search:  61%|████████████████████████████████▎                    | 61/100 [2:12:08<1:36:37, 148.65s/it]"
     ]
    },
    {
     "name": "stdout",
     "output_type": "stream",
     "text": [
      " params: {'n_neighbors': 61}\n",
      " acc_mean: 0.6819410480751096, acc_std: 0.012087663755669543\n",
      " prec_mean: 0.7023567839087271, prec_std: 0.022690841868135102\n",
      " rec_mean: 0.4673223134464514, rec_std: 0.02293974900442134\n",
      " f1_mean: 0.5608618145045223, f1_std: 0.019634503485573513\n"
     ]
    },
    {
     "name": "stderr",
     "output_type": "stream",
     "text": [
      "\r",
      "Hyperparameter search:  62%|████████████████████████████████▊                    | 62/100 [2:14:41<1:35:00, 150.02s/it]"
     ]
    },
    {
     "name": "stdout",
     "output_type": "stream",
     "text": [
      " params: {'n_neighbors': 62}\n",
      " acc_mean: 0.6819838515288261, acc_std: 0.012319726903986557\n",
      " prec_mean: 0.7022785319931861, prec_std: 0.02327620440965016\n",
      " rec_mean: 0.4676523991972268, rec_std: 0.022975383112028375\n",
      " f1_mean: 0.5610735350034839, f1_std: 0.019803073572733455\n"
     ]
    },
    {
     "name": "stderr",
     "output_type": "stream",
     "text": [
      "\r",
      "Hyperparameter search:  63%|█████████████████████████████████▍                   | 63/100 [2:17:16<1:33:24, 151.48s/it]"
     ]
    },
    {
     "name": "stdout",
     "output_type": "stream",
     "text": [
      " params: {'n_neighbors': 63}\n",
      " acc_mean: 0.6818317739168035, acc_std: 0.01216261702270205\n",
      " prec_mean: 0.7027291624062889, prec_std: 0.022991264410627214\n",
      " rec_mean: 0.4663064525938089, rec_std: 0.023138353099436283\n",
      " f1_mean: 0.5602361494712522, f1_std: 0.01980147476118066\n"
     ]
    },
    {
     "name": "stderr",
     "output_type": "stream",
     "text": [
      "\r",
      "Hyperparameter search:  64%|█████████████████████████████████▉                   | 64/100 [2:19:50<1:31:25, 152.38s/it]"
     ]
    },
    {
     "name": "stdout",
     "output_type": "stream",
     "text": [
      " params: {'n_neighbors': 64}\n",
      " acc_mean: 0.6818102663888237, acc_std: 0.012273340331323634\n",
      " prec_mean: 0.7023900593344522, prec_std: 0.023195175358343596\n",
      " rec_mean: 0.4667898437024874, rec_std: 0.02301889487769269\n",
      " f1_mean: 0.5604813211528633, f1_std: 0.019786294308711195\n"
     ]
    },
    {
     "name": "stderr",
     "output_type": "stream",
     "text": [
      "\r",
      "Hyperparameter search:  65%|██████████████████████████████████▍                  | 65/100 [2:22:20<1:28:22, 151.50s/it]"
     ]
    },
    {
     "name": "stdout",
     "output_type": "stream",
     "text": [
      " params: {'n_neighbors': 65}\n",
      " acc_mean: 0.6815527855595269, acc_std: 0.012186912700520459\n",
      " prec_mean: 0.702744074807086, prec_std: 0.022799609160803043\n",
      " rec_mean: 0.46511323967645807, rec_std: 0.023217590885174617\n",
      " f1_mean: 0.5593849316224737, f1_std: 0.01997721824013579\n"
     ]
    },
    {
     "name": "stderr",
     "output_type": "stream",
     "text": [
      "\r",
      "Hyperparameter search:  66%|██████████████████████████████████▉                  | 66/100 [2:24:49<1:25:30, 150.91s/it]"
     ]
    },
    {
     "name": "stdout",
     "output_type": "stream",
     "text": [
      " params: {'n_neighbors': 66}\n",
      " acc_mean: 0.6813597399132432, acc_std: 0.012205807146752522\n",
      " prec_mean: 0.7024201824053627, prec_std: 0.023131653006520824\n",
      " rec_mean: 0.4649160615459466, rec_std: 0.022729051277226735\n",
      " f1_mean: 0.5591476588922478, f1_std: 0.019666304874469787\n"
     ]
    },
    {
     "name": "stderr",
     "output_type": "stream",
     "text": [
      "\r",
      "Hyperparameter search:  67%|███████████████████████████████████▌                 | 67/100 [2:27:20<1:22:59, 150.88s/it]"
     ]
    },
    {
     "name": "stdout",
     "output_type": "stream",
     "text": [
      " params: {'n_neighbors': 67}\n",
      " acc_mean: 0.6809714543974167, acc_std: 0.012037395583934707\n",
      " prec_mean: 0.7026113906118838, prec_std: 0.022863168596721772\n",
      " rec_mean: 0.4630467676214803, rec_std: 0.022969004427756987\n",
      " f1_mean: 0.5578414238587514, f1_std: 0.019730424008218807\n"
     ]
    },
    {
     "name": "stderr",
     "output_type": "stream",
     "text": [
      "\r",
      "Hyperparameter search:  68%|████████████████████████████████████                 | 68/100 [2:29:50<1:20:18, 150.59s/it]"
     ]
    },
    {
     "name": "stdout",
     "output_type": "stream",
     "text": [
      " params: {'n_neighbors': 68}\n",
      " acc_mean: 0.6808728431521375, acc_std: 0.012136919066698806\n",
      " prec_mean: 0.7025221738353996, prec_std: 0.02328458376028985\n",
      " rec_mean: 0.4628352247156845, rec_std: 0.02266406549036509\n",
      " f1_mean: 0.5576648560758977, f1_std: 0.019602145294698187\n"
     ]
    },
    {
     "name": "stderr",
     "output_type": "stream",
     "text": [
      "\r",
      "Hyperparameter search:  69%|████████████████████████████████████▌                | 69/100 [2:32:21<1:17:48, 150.58s/it]"
     ]
    },
    {
     "name": "stdout",
     "output_type": "stream",
     "text": [
      " params: {'n_neighbors': 69}\n",
      " acc_mean: 0.6809522008933295, acc_std: 0.012241759049257825\n",
      " prec_mean: 0.7032985756023239, prec_std: 0.023389531571080317\n",
      " rec_mean: 0.461873940278538, rec_std: 0.02289069892930477\n",
      " f1_mean: 0.5572072414736279, f1_std: 0.01988093867787283\n"
     ]
    },
    {
     "name": "stderr",
     "output_type": "stream",
     "text": [
      "\r",
      "Hyperparameter search:  70%|█████████████████████████████████████                | 70/100 [2:34:52<1:15:20, 150.69s/it]"
     ]
    },
    {
     "name": "stdout",
     "output_type": "stream",
     "text": [
      " params: {'n_neighbors': 70}\n",
      " acc_mean: 0.6808472116804439, acc_std: 0.011965192590143113\n",
      " prec_mean: 0.703298239772216, prec_std: 0.02305669088344944\n",
      " rec_mean: 0.4614547223742626, rec_std: 0.022260345814453394\n",
      " f1_mean: 0.5569149553459168, f1_std: 0.01935145329457659\n"
     ]
    },
    {
     "name": "stderr",
     "output_type": "stream",
     "text": [
      "\r",
      "Hyperparameter search:  71%|█████████████████████████████████████▋               | 71/100 [2:37:22<1:12:51, 150.75s/it]"
     ]
    },
    {
     "name": "stdout",
     "output_type": "stream",
     "text": [
      " params: {'n_neighbors': 71}\n",
      " acc_mean: 0.6809523388947922, acc_std: 0.01202021140450474\n",
      " prec_mean: 0.7042445148092138, prec_std: 0.02315621520637632\n",
      " rec_mean: 0.46035027671349515, rec_std: 0.022582792920370045\n",
      " f1_mean: 0.5563952418116455, f1_std: 0.019612131025275\n"
     ]
    },
    {
     "name": "stderr",
     "output_type": "stream",
     "text": [
      "\r",
      "Hyperparameter search:  72%|██████████████████████████████████████▏              | 72/100 [2:39:54<1:10:27, 150.98s/it]"
     ]
    },
    {
     "name": "stdout",
     "output_type": "stream",
     "text": [
      " params: {'n_neighbors': 72}\n",
      " acc_mean: 0.6809844541352138, acc_std: 0.012164598198068009\n",
      " prec_mean: 0.7044410810149461, prec_std: 0.023005815472368383\n",
      " rec_mean: 0.46009875326886823, rec_std: 0.02332147652599457\n",
      " f1_mean: 0.556264397644018, f1_std: 0.020200958424086573\n"
     ]
    },
    {
     "name": "stderr",
     "output_type": "stream",
     "text": [
      "\r",
      "Hyperparameter search:  73%|██████████████████████████████████████▋              | 73/100 [2:42:26<1:08:01, 151.18s/it]"
     ]
    },
    {
     "name": "stdout",
     "output_type": "stream",
     "text": [
      " params: {'n_neighbors': 73}\n",
      " acc_mean: 0.6808879106118525, acc_std: 0.012171594141305463\n",
      " prec_mean: 0.7049470655103761, prec_std: 0.02323721595066078\n",
      " rec_mean: 0.458949899653348, rec_std: 0.02319603671554478\n",
      " f1_mean: 0.5555764266362744, f1_std: 0.02010685910873019\n"
     ]
    },
    {
     "name": "stderr",
     "output_type": "stream",
     "text": [
      "\r",
      "Hyperparameter search:  74%|███████████████████████████████████████▏             | 74/100 [2:44:58<1:05:41, 151.59s/it]"
     ]
    },
    {
     "name": "stdout",
     "output_type": "stream",
     "text": [
      " params: {'n_neighbors': 74}\n",
      " acc_mean: 0.6807334800748888, acc_std: 0.01212350538023221\n",
      " prec_mean: 0.7047527176370416, prec_std: 0.023097765085416864\n",
      " rec_mean: 0.45863421516754854, rec_std: 0.02325412765223309\n",
      " f1_mean: 0.5552832916312128, f1_std: 0.02014655424932205\n"
     ]
    },
    {
     "name": "stderr",
     "output_type": "stream",
     "text": [
      "\r",
      "Hyperparameter search:  75%|███████████████████████████████████████▊             | 75/100 [2:47:30<1:03:09, 151.57s/it]"
     ]
    },
    {
     "name": "stdout",
     "output_type": "stream",
     "text": [
      " params: {'n_neighbors': 75}\n",
      " acc_mean: 0.6807420338655591, acc_std: 0.012245712633742408\n",
      " prec_mean: 0.7053276434712038, prec_std: 0.023501456037393342\n",
      " rec_mean: 0.457780964544183, rec_std: 0.02303392229878632\n",
      " f1_mean: 0.5548395966146588, f1_std: 0.020115419168035227\n"
     ]
    },
    {
     "name": "stderr",
     "output_type": "stream",
     "text": [
      "\r",
      "Hyperparameter search:  76%|████████████████████████████████████████▎            | 76/100 [2:50:02<1:00:42, 151.78s/it]"
     ]
    },
    {
     "name": "stdout",
     "output_type": "stream",
     "text": [
      " params: {'n_neighbors': 76}\n",
      " acc_mean: 0.6804009701502837, acc_std: 0.012364479346817836\n",
      " prec_mean: 0.7047844467174926, prec_std: 0.02363877757687985\n",
      " rec_mean: 0.4572877820349085, rec_std: 0.023276855978575702\n",
      " f1_mean: 0.5543042946704109, f1_std: 0.020349058012264026\n"
     ]
    },
    {
     "name": "stderr",
     "output_type": "stream",
     "text": [
      "\r",
      "Hyperparameter search:  77%|██████████████████████████████████████████▎            | 77/100 [2:52:34<58:12, 151.87s/it]"
     ]
    },
    {
     "name": "stdout",
     "output_type": "stream",
     "text": [
      " params: {'n_neighbors': 77}\n",
      " acc_mean: 0.6801608637051552, acc_std: 0.012374409656405955\n",
      " prec_mean: 0.7048091782780895, prec_std: 0.023680604963349724\n",
      " rec_mean: 0.45630639177765614, rec_std: 0.023299403763397893\n",
      " f1_mean: 0.5535865717833057, f1_std: 0.020382123445233182\n"
     ]
    },
    {
     "name": "stderr",
     "output_type": "stream",
     "text": [
      "\r",
      "Hyperparameter search:  78%|██████████████████████████████████████████▉            | 78/100 [2:55:08<55:54, 152.47s/it]"
     ]
    },
    {
     "name": "stdout",
     "output_type": "stream",
     "text": [
      " params: {'n_neighbors': 78}\n",
      " acc_mean: 0.679963558413719, acc_std: 0.0122484041710042\n",
      " prec_mean: 0.7044883294634842, prec_std: 0.023323648382538767\n",
      " rec_mean: 0.4559912059843094, rec_std: 0.02322969918616283\n",
      " f1_mean: 0.5532628548110201, f1_std: 0.020282733685371167\n"
     ]
    },
    {
     "name": "stderr",
     "output_type": "stream",
     "text": [
      "\r",
      "Hyperparameter search:  79%|███████████████████████████████████████████▍           | 79/100 [2:57:42<53:35, 153.11s/it]"
     ]
    },
    {
     "name": "stdout",
     "output_type": "stream",
     "text": [
      " params: {'n_neighbors': 79}\n",
      " acc_mean: 0.6798669872900652, acc_std: 0.01230710067718827\n",
      " prec_mean: 0.7048095511782448, prec_std: 0.023577716675731317\n",
      " rec_mean: 0.45514323420300434, rec_std: 0.023451953787727152\n",
      " f1_mean: 0.5527216442855944, f1_std: 0.020430635032590974\n"
     ]
    },
    {
     "name": "stderr",
     "output_type": "stream",
     "text": [
      "\r",
      "Hyperparameter search:  80%|████████████████████████████████████████████           | 80/100 [3:00:16<51:06, 153.35s/it]"
     ]
    },
    {
     "name": "stdout",
     "output_type": "stream",
     "text": [
      " params: {'n_neighbors': 80}\n",
      " acc_mean: 0.6794315259741752, acc_std: 0.01231283472403277\n",
      " prec_mean: 0.7040416961766828, prec_std: 0.023613990926507927\n",
      " rec_mean: 0.4546301769750046, rec_std: 0.023319004267435064\n",
      " f1_mean: 0.5521110487892356, f1_std: 0.02036955653310756\n"
     ]
    },
    {
     "name": "stderr",
     "output_type": "stream",
     "text": [
      "\r",
      "Hyperparameter search:  81%|████████████████████████████████████████████▌          | 81/100 [3:02:51<48:39, 153.65s/it]"
     ]
    },
    {
     "name": "stdout",
     "output_type": "stream",
     "text": [
      " params: {'n_neighbors': 81}\n",
      " acc_mean: 0.6793520992322519, acc_std: 0.012116644345548138\n",
      " prec_mean: 0.704446778355058, prec_std: 0.023563124475250618\n",
      " rec_mean: 0.45371799549960473, rec_std: 0.023179418510132582\n",
      " f1_mean: 0.5515527544568452, f1_std: 0.020129080697954115\n"
     ]
    },
    {
     "name": "stderr",
     "output_type": "stream",
     "text": [
      "\r",
      "Hyperparameter search:  82%|█████████████████████████████████████████████          | 82/100 [3:05:26<46:12, 154.02s/it]"
     ]
    },
    {
     "name": "stdout",
     "output_type": "stream",
     "text": [
      " params: {'n_neighbors': 82}\n",
      " acc_mean: 0.6789660447400743, acc_std: 0.01220661751525887\n",
      " prec_mean: 0.7039797106825005, prec_std: 0.023570137688263357\n",
      " rec_mean: 0.4528847655537311, rec_std: 0.023249623814706855\n",
      " f1_mean: 0.5507993610463725, f1_std: 0.020305439286580965\n"
     ]
    },
    {
     "name": "stderr",
     "output_type": "stream",
     "text": [
      "\r",
      "Hyperparameter search:  83%|█████████████████████████████████████████████▋         | 83/100 [3:08:00<43:41, 154.23s/it]"
     ]
    },
    {
     "name": "stdout",
     "output_type": "stream",
     "text": [
      " params: {'n_neighbors': 83}\n",
      " acc_mean: 0.678826605762021, acc_std: 0.012201215325885537\n",
      " prec_mean: 0.7042043682041982, prec_std: 0.02365182294069052\n",
      " rec_mean: 0.45200215289180806, rec_std: 0.0235560159592191\n",
      " f1_mean: 0.5501984998273903, f1_std: 0.020469319812453472\n"
     ]
    },
    {
     "name": "stderr",
     "output_type": "stream",
     "text": [
      "\r",
      "Hyperparameter search:  84%|██████████████████████████████████████████████▏        | 84/100 [3:10:35<41:11, 154.49s/it]"
     ]
    },
    {
     "name": "stdout",
     "output_type": "stream",
     "text": [
      " params: {'n_neighbors': 84}\n",
      " acc_mean: 0.6784746491312807, acc_std: 0.012301055422782129\n",
      " prec_mean: 0.7038245021311901, prec_std: 0.023852094875711573\n",
      " rec_mean: 0.4512078331204768, rec_std: 0.023577000647525957\n",
      " f1_mean: 0.5494932738008876, f1_std: 0.02056363670203881\n"
     ]
    },
    {
     "name": "stderr",
     "output_type": "stream",
     "text": [
      "\r",
      "Hyperparameter search:  85%|██████████████████████████████████████████████▊        | 85/100 [3:13:10<38:36, 154.46s/it]"
     ]
    },
    {
     "name": "stdout",
     "output_type": "stream",
     "text": [
      " params: {'n_neighbors': 85}\n",
      " acc_mean: 0.6781680903817581, acc_std: 0.012516023577904644\n",
      " prec_mean: 0.7036942441040035, prec_std: 0.024193706613574166\n",
      " rec_mean: 0.45017319223985885, rec_std: 0.02367533858249542\n",
      " f1_mean: 0.5486895686554241, f1_std: 0.02085414965580789\n"
     ]
    },
    {
     "name": "stderr",
     "output_type": "stream",
     "text": [
      "\r",
      "Hyperparameter search:  86%|███████████████████████████████████████████████▎       | 86/100 [3:15:44<36:02, 154.49s/it]"
     ]
    },
    {
     "name": "stdout",
     "output_type": "stream",
     "text": [
      " params: {'n_neighbors': 86}\n",
      " acc_mean: 0.6778376320789, acc_std: 0.01239426735763971\n",
      " prec_mean: 0.7035258936657499, prec_std: 0.02402710752106535\n",
      " rec_mean: 0.44912750714589794, rec_std: 0.023531602422842468\n",
      " f1_mean: 0.5478609730324457, f1_std: 0.02068726135599117\n"
     ]
    },
    {
     "name": "stderr",
     "output_type": "stream",
     "text": [
      "\r",
      "Hyperparameter search:  87%|███████████████████████████████████████████████▊       | 87/100 [3:18:19<33:29, 154.55s/it]"
     ]
    },
    {
     "name": "stdout",
     "output_type": "stream",
     "text": [
      " params: {'n_neighbors': 87}\n",
      " acc_mean: 0.6777133180611714, acc_std: 0.012391749723870027\n",
      " prec_mean: 0.7036447739320623, prec_std: 0.023974179727608545\n",
      " rec_mean: 0.44843782764702306, rec_std: 0.023669312958082396\n",
      " f1_mean: 0.5473786765981603, f1_std: 0.020824772516601857\n"
     ]
    },
    {
     "name": "stderr",
     "output_type": "stream",
     "text": [
      "\r",
      "Hyperparameter search:  88%|████████████████████████████████████████████████▍      | 88/100 [3:20:54<30:56, 154.72s/it]"
     ]
    },
    {
     "name": "stdout",
     "output_type": "stream",
     "text": [
      " params: {'n_neighbors': 88}\n",
      " acc_mean: 0.6773893665272851, acc_std: 0.012270891710360676\n",
      " prec_mean: 0.7034707531489391, prec_std: 0.02361089283893517\n",
      " rec_mean: 0.44738230249954386, rec_std: 0.023831751335664664\n",
      " f1_mean: 0.5465368244135491, f1_std: 0.02088017304464229\n"
     ]
    },
    {
     "name": "stderr",
     "output_type": "stream",
     "text": [
      "\r",
      "Hyperparameter search:  89%|████████████████████████████████████████████████▉      | 89/100 [3:23:30<28:25, 155.00s/it]"
     ]
    },
    {
     "name": "stdout",
     "output_type": "stream",
     "text": [
      " params: {'n_neighbors': 89}\n",
      " acc_mean: 0.6770183840948714, acc_std: 0.01240828923921236\n",
      " prec_mean: 0.7030562633323655, prec_std: 0.023703512562251682\n",
      " rec_mean: 0.446534160433011, rec_std: 0.0240318493247139\n",
      " f1_mean: 0.5457769604646276, f1_std: 0.02114417356368122\n"
     ]
    },
    {
     "name": "stderr",
     "output_type": "stream",
     "text": [
      "\r",
      "Hyperparameter search:  90%|█████████████████████████████████████████████████▌     | 90/100 [3:26:06<25:52, 155.30s/it]"
     ]
    },
    {
     "name": "stdout",
     "output_type": "stream",
     "text": [
      " params: {'n_neighbors': 90}\n",
      " acc_mean: 0.6768575594901306, acc_std: 0.012229977583762739\n",
      " prec_mean: 0.703260542905869, prec_std: 0.02356139109516971\n",
      " rec_mean: 0.44558719211822656, rec_std: 0.023745415862505878\n",
      " f1_mean: 0.5451322326186121, f1_std: 0.02086629721558\n"
     ]
    },
    {
     "name": "stderr",
     "output_type": "stream",
     "text": [
      "\r",
      "Hyperparameter search:  91%|██████████████████████████████████████████████████     | 91/100 [3:28:42<23:20, 155.62s/it]"
     ]
    },
    {
     "name": "stdout",
     "output_type": "stream",
     "text": [
      " params: {'n_neighbors': 91}\n",
      " acc_mean: 0.6769196923487388, acc_std: 0.0121070231335971\n",
      " prec_mean: 0.7037718830099174, prec_std: 0.02351497103486914\n",
      " rec_mean: 0.44506947637292466, rec_std: 0.02368322713044631\n",
      " f1_mean: 0.5448908715072153, f1_std: 0.020712227802248403\n"
     ]
    },
    {
     "name": "stderr",
     "output_type": "stream",
     "text": [
      "\r",
      "Hyperparameter search:  92%|██████████████████████████████████████████████████▌    | 92/100 [3:31:19<20:47, 155.98s/it]"
     ]
    },
    {
     "name": "stdout",
     "output_type": "stream",
     "text": [
      " params: {'n_neighbors': 92}\n",
      " acc_mean: 0.6767867555396088, acc_std: 0.012257343506333689\n",
      " prec_mean: 0.7038259239234514, prec_std: 0.023608563875549094\n",
      " rec_mean: 0.44441874353828376, rec_std: 0.0239613453965643\n",
      " f1_mean: 0.5444191234524207, f1_std: 0.021055560499289742\n"
     ]
    },
    {
     "name": "stderr",
     "output_type": "stream",
     "text": [
      "\r",
      "Hyperparameter search:  93%|███████████████████████████████████████████████████▏   | 93/100 [3:33:53<18:07, 155.36s/it]"
     ]
    },
    {
     "name": "stdout",
     "output_type": "stream",
     "text": [
      " params: {'n_neighbors': 93}\n",
      " acc_mean: 0.6768338991393308, acc_std: 0.012373972294728818\n",
      " prec_mean: 0.704278563624432, prec_std: 0.023923084303026743\n",
      " rec_mean: 0.44393544973544974, rec_std: 0.02423594987209102\n",
      " f1_mean: 0.5441788322039397, f1_std: 0.021272534006406343\n"
     ]
    },
    {
     "name": "stderr",
     "output_type": "stream",
     "text": [
      "\r",
      "Hyperparameter search:  94%|███████████████████████████████████████████████████▋   | 94/100 [3:36:22<15:21, 153.61s/it]"
     ]
    },
    {
     "name": "stdout",
     "output_type": "stream",
     "text": [
      " params: {'n_neighbors': 94}\n",
      " acc_mean: 0.6766751031560935, acc_std: 0.01241796476117983\n",
      " prec_mean: 0.7042166236803138, prec_std: 0.02393608397990779\n",
      " rec_mean: 0.4433731557501673, rec_std: 0.024302649266166713\n",
      " f1_mean: 0.5437407699095348, f1_std: 0.02139431239419972\n"
     ]
    },
    {
     "name": "stderr",
     "output_type": "stream",
     "text": [
      "\r",
      "Hyperparameter search:  95%|████████████████████████████████████████████████████▎  | 95/100 [3:38:54<12:44, 152.96s/it]"
     ]
    },
    {
     "name": "stdout",
     "output_type": "stream",
     "text": [
      " params: {'n_neighbors': 95}\n",
      " acc_mean: 0.6767008818293473, acc_std: 0.012442081418683424\n",
      " prec_mean: 0.704720319573848, prec_std: 0.024194953676156216\n",
      " rec_mean: 0.44273714042449674, rec_std: 0.02417091240629895\n",
      " f1_mean: 0.5434095815223948, f1_std: 0.02130698506263966\n"
     ]
    },
    {
     "name": "stderr",
     "output_type": "stream",
     "text": [
      "\r",
      "Hyperparameter search:  96%|████████████████████████████████████████████████████▊  | 96/100 [3:41:24<10:08, 152.05s/it]"
     ]
    },
    {
     "name": "stdout",
     "output_type": "stream",
     "text": [
      " params: {'n_neighbors': 96}\n",
      " acc_mean: 0.6766601851979631, acc_std: 0.012329017394639537\n",
      " prec_mean: 0.7047640099809955, prec_std: 0.024229421233080303\n",
      " rec_mean: 0.4425397676822964, rec_std: 0.023706520243134972\n",
      " f1_mean: 0.5432811009004654, f1_std: 0.02093017538997048\n"
     ]
    },
    {
     "name": "stderr",
     "output_type": "stream",
     "text": [
      "\r",
      "Hyperparameter search:  97%|█████████████████████████████████████████████████████▎ | 97/100 [3:43:56<07:36, 152.02s/it]"
     ]
    },
    {
     "name": "stdout",
     "output_type": "stream",
     "text": [
      " params: {'n_neighbors': 97}\n",
      " acc_mean: 0.6768209776023626, acc_std: 0.012385078694797375\n",
      " prec_mean: 0.7051464524394314, prec_std: 0.02447976382509231\n",
      " rec_mean: 0.4426135498388372, rec_std: 0.023755021719916863\n",
      " f1_mean: 0.5434460945053272, f1_std: 0.02096997674105076\n"
     ]
    },
    {
     "name": "stderr",
     "output_type": "stream",
     "text": [
      "\r",
      "Hyperparameter search:  98%|█████████████████████████████████████████████████████▉ | 98/100 [3:46:27<05:03, 151.86s/it]"
     ]
    },
    {
     "name": "stdout",
     "output_type": "stream",
     "text": [
      " params: {'n_neighbors': 98}\n",
      " acc_mean: 0.6768167317573566, acc_std: 0.012234810705573715\n",
      " prec_mean: 0.7053670589883506, prec_std: 0.02426475042734577\n",
      " rec_mean: 0.44224872590159947, rec_std: 0.02332416526673096\n",
      " f1_mean: 0.5432487511371029, f1_std: 0.020641178518950365\n"
     ]
    },
    {
     "name": "stderr",
     "output_type": "stream",
     "text": [
      "\r",
      "Hyperparameter search:  99%|██████████████████████████████████████████████████████▍| 99/100 [3:48:58<02:31, 151.39s/it]"
     ]
    },
    {
     "name": "stdout",
     "output_type": "stream",
     "text": [
      " params: {'n_neighbors': 99}\n",
      " acc_mean: 0.6766429626154038, acc_std: 0.012313040935631339\n",
      " prec_mean: 0.7051527525200405, prec_std: 0.02425051376534058\n",
      " rec_mean: 0.4418787204281457, rec_std: 0.023834016551621436\n",
      " f1_mean: 0.5428914775900386, f1_std: 0.021023081254894608\n"
     ]
    },
    {
     "name": "stderr",
     "output_type": "stream",
     "text": [
      "Hyperparameter search: 100%|██████████████████████████████████████████████████████| 100/100 [3:51:28<00:00, 138.89s/it]"
     ]
    },
    {
     "name": "stdout",
     "output_type": "stream",
     "text": [
      " params: {'n_neighbors': 100}\n",
      " acc_mean: 0.6766322031013529, acc_std: 0.012142506453026485\n",
      " prec_mean: 0.7054212746445148, prec_std: 0.024203249374940818\n",
      " rec_mean: 0.44145468588457093, rec_std: 0.023337096254860325\n",
      " f1_mean: 0.5426581802792876, f1_std: 0.020573943896870586\n"
     ]
    },
    {
     "name": "stderr",
     "output_type": "stream",
     "text": [
      "\n"
     ]
    }
   ],
   "source": [
    "# Define hyperparameter ranges\n",
    "param_grid = {\n",
    "    'n_neighbors': list(range(1, 101)) \n",
    "}\n",
    "\n",
    "# Create all combinations of hyperparameters\n",
    "grid = list(ParameterGrid(param_grid))\n",
    "\n",
    "# Initialize the result list\n",
    "results = []\n",
    "\n",
    "# 100 times 5-fold cross-validation\n",
    "rskf = RepeatedStratifiedKFold(n_splits=5, n_repeats=100, random_state=42)\n",
    "rskf.get_n_splits(X_Train, y_Train)\n",
    "\n",
    "# Open the CSV file for writing\n",
    "with open('./result/KNN-100times-5-fold cv.csv', mode='w', newline='') as file:\n",
    "    writer = csv.writer(file)\n",
    "    # Write the header\n",
    "    writer.writerow(['n_neighbors', 'accuracy', 'precision', 'recall', 'f1'])\n",
    "    \n",
    "    # Perform a grid search\n",
    "    for params in tqdm(grid, desc=\"Hyperparameter search\"):\n",
    "        acc_scores = []\n",
    "        prec_scores = []\n",
    "        rec_scores = []\n",
    "        f1_scores = []\n",
    "        \n",
    "        for i, (train_index, test_index) in enumerate(rskf.split(X_Train, y_Train)):\n",
    "            X_train, X_test = X_Train[train_index], X_Train[test_index]\n",
    "            y_train, y_test = y_Train[train_index], y_Train[test_index]\n",
    "            clf = KNeighborsClassifier(n_neighbors=params['n_neighbors'],weights='distance',algorithm='ball_tree')\n",
    "            clf.fit(X_train, y_train)\n",
    "            y_pred = clf.predict(X_test)\n",
    "            acc_scores.append(accuracy_score(y_test, y_pred))\n",
    "            prec_scores.append(precision_score(y_test, y_pred))\n",
    "            rec_scores.append(recall_score(y_test, y_pred))\n",
    "            f1_scores.append(f1_score(y_test, y_pred))\n",
    "        \n",
    "        # Save scores for this hyperparameter combination\n",
    "        for acc, prec, rec, f1 in zip(acc_scores, prec_scores, rec_scores, f1_scores):\n",
    "            writer.writerow([params['n_neighbors'], acc, prec, rec, f1])\n",
    "\n",
    "        acc_mean, acc_std = np.mean(acc_scores), np.std(acc_scores)\n",
    "        prec_mean, prec_std = np.mean(prec_scores), np.std(prec_scores)\n",
    "        rec_mean, rec_std = np.mean(rec_scores), np.std(rec_scores)\n",
    "        f1_mean, f1_std = np.mean(f1_scores), np.std(f1_scores)\n",
    "        print(f\" params: {params}\")\n",
    "        print(f\" acc_mean: {acc_mean}, acc_std: {acc_std}\")\n",
    "        print(f\" prec_mean: {prec_mean}, prec_std: {prec_std}\")\n",
    "        print(f\" rec_mean: {rec_mean}, rec_std: {rec_std}\")\n",
    "        print(f\" f1_mean: {f1_mean}, f1_std: {f1_std}\")"
   ]
  },
  {
   "cell_type": "code",
   "execution_count": null,
   "id": "9e4293d3",
   "metadata": {},
   "outputs": [],
   "source": []
  }
 ],
 "metadata": {
  "kernelspec": {
   "display_name": "Python 3 (ipykernel)",
   "language": "python",
   "name": "python3"
  },
  "language_info": {
   "codemirror_mode": {
    "name": "ipython",
    "version": 3
   },
   "file_extension": ".py",
   "mimetype": "text/x-python",
   "name": "python",
   "nbconvert_exporter": "python",
   "pygments_lexer": "ipython3",
   "version": "3.9.13"
  }
 },
 "nbformat": 4,
 "nbformat_minor": 5
}
